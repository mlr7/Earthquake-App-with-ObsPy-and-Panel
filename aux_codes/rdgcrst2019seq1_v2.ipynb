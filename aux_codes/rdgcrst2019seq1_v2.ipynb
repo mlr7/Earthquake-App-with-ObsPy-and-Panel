{
 "cells": [
  {
   "cell_type": "code",
   "execution_count": null,
   "id": "59a38d29",
   "metadata": {},
   "outputs": [],
   "source": []
  },
  {
   "cell_type": "code",
   "execution_count": null,
   "id": "c9baee02",
   "metadata": {},
   "outputs": [],
   "source": [
    "%matplotlib inline\n",
    "\n",
    "import numpy as np\n",
    "import pandas as pd\n",
    "\n",
    "import matplotlib.pyplot as plt\n",
    "\n",
    "# fdsn client for connecting with web services, data pull\n",
    "from obspy.clients.fdsn import Client\n",
    "from obspy import UTCDateTime\n",
    "\n",
    "#import warnings\n",
    "#warnings.filterwarnings(\"ignore\")"
   ]
  },
  {
   "cell_type": "markdown",
   "id": "bf8142e6",
   "metadata": {},
   "source": [
    "### Inspect data from Caltech on the Ridgecrest-2019 sequence"
   ]
  },
  {
   "cell_type": "code",
   "execution_count": null,
   "id": "c5bd89b4",
   "metadata": {},
   "outputs": [],
   "source": [
    "df_rc = pd.read_csv('./data_in/data_ridgecrest2019_qtm_v2.csv')\n",
    "print(df_rc.shape)\n",
    "print(df_rc.columns)\n",
    "display(df_rc.head())\n",
    "display(df_rc.tail())"
   ]
  },
  {
   "cell_type": "code",
   "execution_count": null,
   "id": "220c6b34",
   "metadata": {},
   "outputs": [],
   "source": [
    "print(np.min(df_rc['mag']))\n",
    "print(np.max(df_rc['mag']))"
   ]
  },
  {
   "cell_type": "code",
   "execution_count": null,
   "id": "fbe56c4b",
   "metadata": {},
   "outputs": [],
   "source": [
    "df_rc[['latR', 'lonR', 'latC', 'lonC']]"
   ]
  },
  {
   "cell_type": "code",
   "execution_count": null,
   "id": "7194630c",
   "metadata": {},
   "outputs": [],
   "source": [
    "\n",
    "print(np.min(df_rc['latR']))\n",
    "print(np.min(df_rc['lonR']))\n",
    "\n",
    "print(np.max(df_rc['latR']))\n",
    "print(np.max(df_rc['lonR']))"
   ]
  },
  {
   "cell_type": "markdown",
   "id": "e84daea5",
   "metadata": {},
   "source": [
    "### Get seismic data from ObsPy"
   ]
  },
  {
   "cell_type": "code",
   "execution_count": 1,
   "id": "43edb835",
   "metadata": {},
   "outputs": [],
   "source": [
    "# https://github.com/mlr7/Earthquake-App-with-ObsPy-and-Panel/blob/main/obspy_panel_app1_v11.ipynb"
   ]
  },
  {
   "cell_type": "code",
   "execution_count": 2,
   "id": "7b03acea",
   "metadata": {},
   "outputs": [],
   "source": [
    "%matplotlib inline\n",
    "\n",
    "import numpy as np\n",
    "import pandas as pd\n",
    "\n",
    "import matplotlib.pyplot as plt\n",
    "\n",
    "# fdsn client for connecting with web services, data pull\n",
    "from obspy.clients.fdsn import Client\n",
    "from obspy import UTCDateTime\n",
    "\n",
    "#import warnings\n",
    "#warnings.filterwarnings(\"ignore\")"
   ]
  },
  {
   "cell_type": "code",
   "execution_count": 3,
   "id": "e4e23403",
   "metadata": {},
   "outputs": [],
   "source": [
    "iris_client = Client(\"IRIS\", timeout=600)"
   ]
  },
  {
   "cell_type": "code",
   "execution_count": 4,
   "id": "5cbfcd44",
   "metadata": {},
   "outputs": [
    {
     "data": {
      "text/plain": [
       "67624 Event(s) in Catalog:\n",
       "2023-03-05T20:39:33.580000Z | +35.864, -117.682 | 1.65 Ml\n",
       "2023-03-05T01:36:13.190000Z | +35.705, -117.528 | 1.29 Ml\n",
       "...\n",
       "2018-01-02T02:16:28.190000Z | +35.883, -117.985 | 0.68 Ml\n",
       "2018-01-01T19:48:33.070000Z | +36.086, -117.020 | 0.4 ml\n",
       "To see all events call 'print(CatalogObject.__str__(print_all=True))'"
      ]
     },
     "execution_count": 4,
     "metadata": {},
     "output_type": "execute_result"
    }
   ],
   "source": [
    "cat = iris_client.get_events(minlat=35.3053,\n",
    "                           maxlat=36.137, #35,\n",
    "                           minlon=-118.016, #-119,\n",
    "                           maxlon=-117.0115,\n",
    "                           starttime=UTCDateTime(\"2018-01-01\"),\n",
    "                           endtime=UTCDateTime(\"2023-03-20\"),\n",
    "                           minmag=0.0) # 2.0\n",
    "cat"
   ]
  },
  {
   "cell_type": "code",
   "execution_count": 5,
   "id": "e1bdfe02",
   "metadata": {},
   "outputs": [],
   "source": [
    "times = []\n",
    "lats = []\n",
    "lons = []\n",
    "deps = []\n",
    "magnitudes = []\n",
    "magnitudestype = []\n",
    "for event in cat:\n",
    "    if len(event.origins) != 0 and len(event.magnitudes) != 0:\n",
    "        times.append(event.origins[0].time.datetime)\n",
    "        lats.append(event.origins[0].latitude)\n",
    "        lons.append(event.origins[0].longitude)\n",
    "        deps.append(event.origins[0].depth)\n",
    "        magnitudes.append(event.magnitudes[0].mag)\n",
    "        magnitudestype.append(event.magnitudes[0].magnitude_type )"
   ]
  },
  {
   "cell_type": "code",
   "execution_count": 6,
   "id": "7143835f",
   "metadata": {},
   "outputs": [
    {
     "name": "stdout",
     "output_type": "stream",
     "text": [
      "(67624, 6)\n",
      "Index(['datetime', 'lat', 'lon', 'depth', 'mag', 'type'], dtype='object')\n"
     ]
    },
    {
     "data": {
      "text/html": [
       "<div>\n",
       "<style scoped>\n",
       "    .dataframe tbody tr th:only-of-type {\n",
       "        vertical-align: middle;\n",
       "    }\n",
       "\n",
       "    .dataframe tbody tr th {\n",
       "        vertical-align: top;\n",
       "    }\n",
       "\n",
       "    .dataframe thead th {\n",
       "        text-align: right;\n",
       "    }\n",
       "</style>\n",
       "<table border=\"1\" class=\"dataframe\">\n",
       "  <thead>\n",
       "    <tr style=\"text-align: right;\">\n",
       "      <th></th>\n",
       "      <th>datetime</th>\n",
       "      <th>lat</th>\n",
       "      <th>lon</th>\n",
       "      <th>depth</th>\n",
       "      <th>mag</th>\n",
       "      <th>type</th>\n",
       "    </tr>\n",
       "  </thead>\n",
       "  <tbody>\n",
       "    <tr>\n",
       "      <th>0</th>\n",
       "      <td>2023-03-05 20:39:33.580</td>\n",
       "      <td>35.864500</td>\n",
       "      <td>-117.681833</td>\n",
       "      <td>8680.0</td>\n",
       "      <td>1.65</td>\n",
       "      <td>Ml</td>\n",
       "    </tr>\n",
       "    <tr>\n",
       "      <th>1</th>\n",
       "      <td>2023-03-05 01:36:13.190</td>\n",
       "      <td>35.705333</td>\n",
       "      <td>-117.528500</td>\n",
       "      <td>520.0</td>\n",
       "      <td>1.29</td>\n",
       "      <td>Ml</td>\n",
       "    </tr>\n",
       "    <tr>\n",
       "      <th>2</th>\n",
       "      <td>2023-03-04 14:06:38.490</td>\n",
       "      <td>35.680167</td>\n",
       "      <td>-117.508500</td>\n",
       "      <td>4680.0</td>\n",
       "      <td>0.68</td>\n",
       "      <td>Ml</td>\n",
       "    </tr>\n",
       "    <tr>\n",
       "      <th>3</th>\n",
       "      <td>2023-03-04 06:34:26.940</td>\n",
       "      <td>35.907833</td>\n",
       "      <td>-117.731833</td>\n",
       "      <td>4570.0</td>\n",
       "      <td>1.09</td>\n",
       "      <td>Ml</td>\n",
       "    </tr>\n",
       "  </tbody>\n",
       "</table>\n",
       "</div>"
      ],
      "text/plain": [
       "                 datetime        lat         lon   depth   mag type\n",
       "0 2023-03-05 20:39:33.580  35.864500 -117.681833  8680.0  1.65   Ml\n",
       "1 2023-03-05 01:36:13.190  35.705333 -117.528500   520.0  1.29   Ml\n",
       "2 2023-03-04 14:06:38.490  35.680167 -117.508500  4680.0  0.68   Ml\n",
       "3 2023-03-04 06:34:26.940  35.907833 -117.731833  4570.0  1.09   Ml"
      ]
     },
     "metadata": {},
     "output_type": "display_data"
    },
    {
     "data": {
      "text/html": [
       "<div>\n",
       "<style scoped>\n",
       "    .dataframe tbody tr th:only-of-type {\n",
       "        vertical-align: middle;\n",
       "    }\n",
       "\n",
       "    .dataframe tbody tr th {\n",
       "        vertical-align: top;\n",
       "    }\n",
       "\n",
       "    .dataframe thead th {\n",
       "        text-align: right;\n",
       "    }\n",
       "</style>\n",
       "<table border=\"1\" class=\"dataframe\">\n",
       "  <thead>\n",
       "    <tr style=\"text-align: right;\">\n",
       "      <th></th>\n",
       "      <th>datetime</th>\n",
       "      <th>lat</th>\n",
       "      <th>lon</th>\n",
       "      <th>depth</th>\n",
       "      <th>mag</th>\n",
       "      <th>type</th>\n",
       "    </tr>\n",
       "  </thead>\n",
       "  <tbody>\n",
       "    <tr>\n",
       "      <th>67620</th>\n",
       "      <td>2018-01-02 11:24:05.650</td>\n",
       "      <td>35.773500</td>\n",
       "      <td>-117.668833</td>\n",
       "      <td>8840.0</td>\n",
       "      <td>0.59</td>\n",
       "      <td>Ml</td>\n",
       "    </tr>\n",
       "    <tr>\n",
       "      <th>67621</th>\n",
       "      <td>2018-01-02 02:31:57.870</td>\n",
       "      <td>35.886167</td>\n",
       "      <td>-117.987167</td>\n",
       "      <td>8920.0</td>\n",
       "      <td>1.57</td>\n",
       "      <td>Ml</td>\n",
       "    </tr>\n",
       "    <tr>\n",
       "      <th>67622</th>\n",
       "      <td>2018-01-02 02:16:28.190</td>\n",
       "      <td>35.883500</td>\n",
       "      <td>-117.984667</td>\n",
       "      <td>10890.0</td>\n",
       "      <td>0.68</td>\n",
       "      <td>Ml</td>\n",
       "    </tr>\n",
       "    <tr>\n",
       "      <th>67623</th>\n",
       "      <td>2018-01-01 19:48:33.070</td>\n",
       "      <td>36.085500</td>\n",
       "      <td>-117.020100</td>\n",
       "      <td>5200.0</td>\n",
       "      <td>0.40</td>\n",
       "      <td>ml</td>\n",
       "    </tr>\n",
       "  </tbody>\n",
       "</table>\n",
       "</div>"
      ],
      "text/plain": [
       "                     datetime        lat         lon    depth   mag type\n",
       "67620 2018-01-02 11:24:05.650  35.773500 -117.668833   8840.0  0.59   Ml\n",
       "67621 2018-01-02 02:31:57.870  35.886167 -117.987167   8920.0  1.57   Ml\n",
       "67622 2018-01-02 02:16:28.190  35.883500 -117.984667  10890.0  0.68   Ml\n",
       "67623 2018-01-01 19:48:33.070  36.085500 -117.020100   5200.0  0.40   ml"
      ]
     },
     "metadata": {},
     "output_type": "display_data"
    }
   ],
   "source": [
    "df = pd.DataFrame({'datetime':times, 'lat':lats,'lon':lons,'depth':deps,\n",
    "                   'mag':magnitudes,'type':magnitudestype})\n",
    "\n",
    "print(df.shape)\n",
    "print(df.columns)\n",
    "display(df.head(4))\n",
    "display(df.tail(4))"
   ]
  },
  {
   "cell_type": "code",
   "execution_count": null,
   "id": "9995acba",
   "metadata": {},
   "outputs": [],
   "source": [
    "print(np.max(df['mag']))\n",
    "print(np.min(df['mag']))"
   ]
  },
  {
   "cell_type": "code",
   "execution_count": 7,
   "id": "4120e8a8",
   "metadata": {},
   "outputs": [],
   "source": [
    "df['datetime'] = pd.to_datetime(df['datetime'])"
   ]
  },
  {
   "cell_type": "code",
   "execution_count": 8,
   "id": "0b19dbfe",
   "metadata": {},
   "outputs": [
    {
     "data": {
      "text/html": [
       "<div>\n",
       "<style scoped>\n",
       "    .dataframe tbody tr th:only-of-type {\n",
       "        vertical-align: middle;\n",
       "    }\n",
       "\n",
       "    .dataframe tbody tr th {\n",
       "        vertical-align: top;\n",
       "    }\n",
       "\n",
       "    .dataframe thead th {\n",
       "        text-align: right;\n",
       "    }\n",
       "</style>\n",
       "<table border=\"1\" class=\"dataframe\">\n",
       "  <thead>\n",
       "    <tr style=\"text-align: right;\">\n",
       "      <th></th>\n",
       "      <th>datetime</th>\n",
       "      <th>lat</th>\n",
       "      <th>lon</th>\n",
       "      <th>depth</th>\n",
       "      <th>mag</th>\n",
       "      <th>type</th>\n",
       "    </tr>\n",
       "  </thead>\n",
       "  <tbody>\n",
       "    <tr>\n",
       "      <th>0</th>\n",
       "      <td>2018-01-01 19:48:33.070</td>\n",
       "      <td>36.085500</td>\n",
       "      <td>-117.020100</td>\n",
       "      <td>5200.0</td>\n",
       "      <td>0.40</td>\n",
       "      <td>ml</td>\n",
       "    </tr>\n",
       "    <tr>\n",
       "      <th>1</th>\n",
       "      <td>2018-01-02 02:16:28.190</td>\n",
       "      <td>35.883500</td>\n",
       "      <td>-117.984667</td>\n",
       "      <td>10890.0</td>\n",
       "      <td>0.68</td>\n",
       "      <td>Ml</td>\n",
       "    </tr>\n",
       "    <tr>\n",
       "      <th>2</th>\n",
       "      <td>2018-01-02 02:31:57.870</td>\n",
       "      <td>35.886167</td>\n",
       "      <td>-117.987167</td>\n",
       "      <td>8920.0</td>\n",
       "      <td>1.57</td>\n",
       "      <td>Ml</td>\n",
       "    </tr>\n",
       "  </tbody>\n",
       "</table>\n",
       "</div>"
      ],
      "text/plain": [
       "                 datetime        lat         lon    depth   mag type\n",
       "0 2018-01-01 19:48:33.070  36.085500 -117.020100   5200.0  0.40   ml\n",
       "1 2018-01-02 02:16:28.190  35.883500 -117.984667  10890.0  0.68   Ml\n",
       "2 2018-01-02 02:31:57.870  35.886167 -117.987167   8920.0  1.57   Ml"
      ]
     },
     "metadata": {},
     "output_type": "display_data"
    },
    {
     "data": {
      "text/html": [
       "<div>\n",
       "<style scoped>\n",
       "    .dataframe tbody tr th:only-of-type {\n",
       "        vertical-align: middle;\n",
       "    }\n",
       "\n",
       "    .dataframe tbody tr th {\n",
       "        vertical-align: top;\n",
       "    }\n",
       "\n",
       "    .dataframe thead th {\n",
       "        text-align: right;\n",
       "    }\n",
       "</style>\n",
       "<table border=\"1\" class=\"dataframe\">\n",
       "  <thead>\n",
       "    <tr style=\"text-align: right;\">\n",
       "      <th></th>\n",
       "      <th>datetime</th>\n",
       "      <th>lat</th>\n",
       "      <th>lon</th>\n",
       "      <th>depth</th>\n",
       "      <th>mag</th>\n",
       "      <th>type</th>\n",
       "    </tr>\n",
       "  </thead>\n",
       "  <tbody>\n",
       "    <tr>\n",
       "      <th>67621</th>\n",
       "      <td>2023-03-04 14:06:38.490</td>\n",
       "      <td>35.680167</td>\n",
       "      <td>-117.508500</td>\n",
       "      <td>4680.0</td>\n",
       "      <td>0.68</td>\n",
       "      <td>Ml</td>\n",
       "    </tr>\n",
       "    <tr>\n",
       "      <th>67622</th>\n",
       "      <td>2023-03-05 01:36:13.190</td>\n",
       "      <td>35.705333</td>\n",
       "      <td>-117.528500</td>\n",
       "      <td>520.0</td>\n",
       "      <td>1.29</td>\n",
       "      <td>Ml</td>\n",
       "    </tr>\n",
       "    <tr>\n",
       "      <th>67623</th>\n",
       "      <td>2023-03-05 20:39:33.580</td>\n",
       "      <td>35.864500</td>\n",
       "      <td>-117.681833</td>\n",
       "      <td>8680.0</td>\n",
       "      <td>1.65</td>\n",
       "      <td>Ml</td>\n",
       "    </tr>\n",
       "  </tbody>\n",
       "</table>\n",
       "</div>"
      ],
      "text/plain": [
       "                     datetime        lat         lon   depth   mag type\n",
       "67621 2023-03-04 14:06:38.490  35.680167 -117.508500  4680.0  0.68   Ml\n",
       "67622 2023-03-05 01:36:13.190  35.705333 -117.528500   520.0  1.29   Ml\n",
       "67623 2023-03-05 20:39:33.580  35.864500 -117.681833  8680.0  1.65   Ml"
      ]
     },
     "metadata": {},
     "output_type": "display_data"
    }
   ],
   "source": [
    "df = df.sort_values(by='datetime')\n",
    "df = df.reset_index(drop=True)\n",
    "display(df.head(3))\n",
    "display(df.tail(3))"
   ]
  },
  {
   "cell_type": "code",
   "execution_count": 9,
   "id": "4d903e17",
   "metadata": {},
   "outputs": [],
   "source": [
    "df.to_csv('data_IrisObspy_Ridgecrest2019_2018TO5mar2023_20230305a.csv', index=False)"
   ]
  },
  {
   "cell_type": "markdown",
   "id": "4041e494",
   "metadata": {},
   "source": [
    "### Dive in on Ridgecrest-2019 data"
   ]
  },
  {
   "cell_type": "code",
   "execution_count": null,
   "id": "871356ed",
   "metadata": {},
   "outputs": [],
   "source": [
    "df_4 = df[df['mag'] >= 4.0]\n",
    "print(df.shape, df_4.shape)"
   ]
  },
  {
   "cell_type": "code",
   "execution_count": null,
   "id": "b69bd2b3",
   "metadata": {},
   "outputs": [],
   "source": [
    "plt.figure()\n",
    "plt.subplot(1,2,1)\n",
    "plt.plot(df['lon'], df['lat'], '.')\n",
    "plt.subplot(1,2,2)\n",
    "\n",
    "#cm = plt.cm.get_cmap('RdYlBu')\n",
    "\n",
    "plt.scatter(df_4['lon'], df_4['lat'], s=df_4['mag']**2.5, c=df_4['mag'])\n",
    "# https://stackoverflow.com/questions/6063876/matplotlib-colorbar-for-scatter\n",
    "plt.colorbar()"
   ]
  },
  {
   "cell_type": "code",
   "execution_count": null,
   "id": "7f8a6f91",
   "metadata": {},
   "outputs": [],
   "source": [
    "df_5 = df[df['mag'] >= 5.0]\n",
    "print(df.shape, df_5.shape)"
   ]
  },
  {
   "cell_type": "code",
   "execution_count": null,
   "id": "e1a1a1b0",
   "metadata": {},
   "outputs": [],
   "source": [
    "plt.figure()\n",
    "plt.scatter(df_4['lon'], df_4['lat'], s=df_4['mag']**3.0, c=df_4['mag'])\n",
    "# https://stackoverflow.com/questions/6063876/matplotlib-colorbar-for-scatter\n",
    "plt.colorbar()"
   ]
  },
  {
   "cell_type": "code",
   "execution_count": null,
   "id": "3d58286a",
   "metadata": {},
   "outputs": [],
   "source": [
    "plt.figure()\n",
    "plt.scatter(df_5['lon'], df_5['lat'], s=df_5['mag']**3.0, c=df_5['mag'])\n",
    "# https://stackoverflow.com/questions/6063876/matplotlib-colorbar-for-scatter\n",
    "plt.colorbar()"
   ]
  },
  {
   "cell_type": "code",
   "execution_count": null,
   "id": "5ef1b221",
   "metadata": {},
   "outputs": [],
   "source": [
    "plt.figure()\n",
    "plt.scatter(df['lon'], df['lat'], s=df['mag']**3.0, c=df['mag'])\n",
    "# https://stackoverflow.com/questions/6063876/matplotlib-colorbar-for-scatter\n",
    "plt.colorbar()"
   ]
  },
  {
   "cell_type": "code",
   "execution_count": null,
   "id": "7f9c3eae",
   "metadata": {},
   "outputs": [],
   "source": [
    "df.head(3)"
   ]
  },
  {
   "cell_type": "code",
   "execution_count": null,
   "id": "81ef75d0",
   "metadata": {},
   "outputs": [],
   "source": [
    "type(df['mag'][10])"
   ]
  },
  {
   "cell_type": "code",
   "execution_count": null,
   "id": "76a4b965",
   "metadata": {},
   "outputs": [],
   "source": [
    "plt.figure()\n",
    "plt.plot(df['datetime'],df['mag'], '.');"
   ]
  },
  {
   "cell_type": "code",
   "execution_count": null,
   "id": "679fbbd9",
   "metadata": {},
   "outputs": [],
   "source": [
    "df_2 = df[df['mag'] >= 2]"
   ]
  },
  {
   "cell_type": "code",
   "execution_count": null,
   "id": "6383e225",
   "metadata": {},
   "outputs": [],
   "source": [
    "plt.figure()\n",
    "plt.plot(df_2['datetime'],df_2['mag'], '.');"
   ]
  },
  {
   "cell_type": "code",
   "execution_count": null,
   "id": "a3cc49ee",
   "metadata": {},
   "outputs": [],
   "source": [
    "# plt.figure()\n",
    "# plt.plot(df_2.index,df_2['mag'], '.');"
   ]
  },
  {
   "cell_type": "code",
   "execution_count": null,
   "id": "efeeed30",
   "metadata": {},
   "outputs": [],
   "source": []
  }
 ],
 "metadata": {
  "kernelspec": {
   "display_name": "Python 3 (ipykernel)",
   "language": "python",
   "name": "python3"
  },
  "language_info": {
   "codemirror_mode": {
    "name": "ipython",
    "version": 3
   },
   "file_extension": ".py",
   "mimetype": "text/x-python",
   "name": "python",
   "nbconvert_exporter": "python",
   "pygments_lexer": "ipython3",
   "version": "3.10.9"
  }
 },
 "nbformat": 4,
 "nbformat_minor": 5
}

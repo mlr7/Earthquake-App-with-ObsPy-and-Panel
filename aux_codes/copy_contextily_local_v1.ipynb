{
 "cells": [
  {
   "cell_type": "code",
   "execution_count": null,
   "metadata": {},
   "outputs": [],
   "source": []
  },
  {
   "cell_type": "code",
   "execution_count": 1,
   "metadata": {},
   "outputs": [],
   "source": [
    "# https://contextily.readthedocs.io/en/latest/working_with_local_files.html"
   ]
  },
  {
   "cell_type": "code",
   "execution_count": 2,
   "metadata": {},
   "outputs": [],
   "source": [
    "%matplotlib inline\n",
    "\n",
    "import contextily as ctx\n",
    "import geopandas\n",
    "import rasterio\n",
    "from rasterio.plot import show as rioshow\n",
    "from shapely.geometry import box\n",
    "import matplotlib.pyplot as plt"
   ]
  },
  {
   "cell_type": "code",
   "execution_count": 3,
   "metadata": {},
   "outputs": [],
   "source": [
    "-179.98,  -71.17,  179.98,   80.8\n",
    "\n",
    "west = -179.98\n",
    "south =-71.17\n",
    "east =  179.98\n",
    "north = 80.8"
   ]
  },
  {
   "cell_type": "code",
   "execution_count": 7,
   "metadata": {},
   "outputs": [],
   "source": [
    "west = -118.016\n",
    "south = 35.3053\n",
    "east =  -117.0115\n",
    "north = 36.137"
   ]
  },
  {
   "cell_type": "code",
   "execution_count": 10,
   "metadata": {},
   "outputs": [],
   "source": [
    "img, ext = ctx.bounds2raster(west,\n",
    "                             south,\n",
    "                             east,\n",
    "                             north,\n",
    "                             #\"world_watercolor.tif\",\n",
    "                             \"ridgcrest2019b.tif\",\n",
    "                             #source=ctx.providers.Stamen.Watercolor,\n",
    "                             source=ctx.providers.OpenStreetMap.Mapnik,\n",
    "                             ll=True\n",
    "                            )"
   ]
  },
  {
   "cell_type": "code",
   "execution_count": null,
   "metadata": {},
   "outputs": [],
   "source": []
  }
 ],
 "metadata": {
  "kernelspec": {
   "display_name": "Python 3 (ipykernel)",
   "language": "python",
   "name": "python3"
  },
  "language_info": {
   "codemirror_mode": {
    "name": "ipython",
    "version": 3
   },
   "file_extension": ".py",
   "mimetype": "text/x-python",
   "name": "python",
   "nbconvert_exporter": "python",
   "pygments_lexer": "ipython3",
   "version": "3.10.9"
  }
 },
 "nbformat": 4,
 "nbformat_minor": 4
}

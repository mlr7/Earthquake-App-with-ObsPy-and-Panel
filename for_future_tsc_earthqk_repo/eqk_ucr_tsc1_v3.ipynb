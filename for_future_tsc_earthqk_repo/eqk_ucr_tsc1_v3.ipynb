{
 "cells": [
  {
   "cell_type": "code",
   "execution_count": null,
   "id": "59a38d29",
   "metadata": {},
   "outputs": [],
   "source": []
  },
  {
   "cell_type": "markdown",
   "id": "00e33d26",
   "metadata": {},
   "source": [
    "## Time series classification for earthquake prediction"
   ]
  },
  {
   "cell_type": "markdown",
   "id": "3c69c1f4",
   "metadata": {},
   "source": [
    "The tactical purpose is to und data prep and setup for time series classification (TSC) on seismic (earthquake) dataset. Also to prototype the advanced pipeline (seq to feature-extract to tabular-transofrmer-gpt2-synthethic to interpretable anomaly-detection.\n",
    "\n",
    "Note-1: Task-1 on Ridgecrest-2019 seq can be TSC for year-pre (class-0) vs year-post (class-1) the event . . . look how to define event, and how to define the time step (or not). Can average or max by-minute or by-hour, or could use tsfresh/tsflex feature extraction to no need to impose a regular time-step on the data . . . interesting research question to do both and compare, etc . . . "
   ]
  },
  {
   "cell_type": "code",
   "execution_count": 1,
   "id": "700b9ec4",
   "metadata": {},
   "outputs": [],
   "source": [
    "import numpy as np\n",
    "import pandas as pd\n",
    "from scipy.io.arff import loadarff "
   ]
  },
  {
   "cell_type": "code",
   "execution_count": 2,
   "id": "48303be8",
   "metadata": {},
   "outputs": [
    {
     "name": "stdout",
     "output_type": "stream",
     "text": [
      "(322, 513) (139, 513)\n"
     ]
    },
    {
     "data": {
      "text/html": [
       "<div>\n",
       "<style scoped>\n",
       "    .dataframe tbody tr th:only-of-type {\n",
       "        vertical-align: middle;\n",
       "    }\n",
       "\n",
       "    .dataframe tbody tr th {\n",
       "        vertical-align: top;\n",
       "    }\n",
       "\n",
       "    .dataframe thead th {\n",
       "        text-align: right;\n",
       "    }\n",
       "</style>\n",
       "<table border=\"1\" class=\"dataframe\">\n",
       "  <thead>\n",
       "    <tr style=\"text-align: right;\">\n",
       "      <th></th>\n",
       "      <th>att1</th>\n",
       "      <th>att2</th>\n",
       "      <th>att3</th>\n",
       "      <th>att4</th>\n",
       "      <th>att5</th>\n",
       "      <th>att6</th>\n",
       "      <th>att7</th>\n",
       "      <th>att8</th>\n",
       "      <th>att9</th>\n",
       "      <th>att10</th>\n",
       "      <th>...</th>\n",
       "      <th>att504</th>\n",
       "      <th>att505</th>\n",
       "      <th>att506</th>\n",
       "      <th>att507</th>\n",
       "      <th>att508</th>\n",
       "      <th>att509</th>\n",
       "      <th>att510</th>\n",
       "      <th>att511</th>\n",
       "      <th>att512</th>\n",
       "      <th>target</th>\n",
       "    </tr>\n",
       "  </thead>\n",
       "  <tbody>\n",
       "    <tr>\n",
       "      <th>0</th>\n",
       "      <td>-0.518009</td>\n",
       "      <td>-0.518009</td>\n",
       "      <td>2.654211</td>\n",
       "      <td>-0.518009</td>\n",
       "      <td>-0.518009</td>\n",
       "      <td>-0.518009</td>\n",
       "      <td>-0.518009</td>\n",
       "      <td>1.456243</td>\n",
       "      <td>2.558373</td>\n",
       "      <td>-0.518009</td>\n",
       "      <td>...</td>\n",
       "      <td>-0.518009</td>\n",
       "      <td>-0.518009</td>\n",
       "      <td>-0.518009</td>\n",
       "      <td>-0.518009</td>\n",
       "      <td>-0.518009</td>\n",
       "      <td>-0.518009</td>\n",
       "      <td>-0.518009</td>\n",
       "      <td>1.465826</td>\n",
       "      <td>-0.518009</td>\n",
       "      <td>b'1'</td>\n",
       "    </tr>\n",
       "    <tr>\n",
       "      <th>1</th>\n",
       "      <td>1.943733</td>\n",
       "      <td>-0.353115</td>\n",
       "      <td>-0.353115</td>\n",
       "      <td>-0.353115</td>\n",
       "      <td>-0.353115</td>\n",
       "      <td>-0.353115</td>\n",
       "      <td>-0.353115</td>\n",
       "      <td>-0.353115</td>\n",
       "      <td>-0.353115</td>\n",
       "      <td>-0.353115</td>\n",
       "      <td>...</td>\n",
       "      <td>3.365590</td>\n",
       "      <td>-0.353115</td>\n",
       "      <td>-0.353115</td>\n",
       "      <td>-0.353115</td>\n",
       "      <td>-0.353115</td>\n",
       "      <td>-0.353115</td>\n",
       "      <td>-0.353115</td>\n",
       "      <td>-0.353115</td>\n",
       "      <td>-0.353115</td>\n",
       "      <td>b'0'</td>\n",
       "    </tr>\n",
       "  </tbody>\n",
       "</table>\n",
       "<p>2 rows × 513 columns</p>\n",
       "</div>"
      ],
      "text/plain": [
       "       att1      att2      att3      att4      att5      att6      att7  \\\n",
       "0 -0.518009 -0.518009  2.654211 -0.518009 -0.518009 -0.518009 -0.518009   \n",
       "1  1.943733 -0.353115 -0.353115 -0.353115 -0.353115 -0.353115 -0.353115   \n",
       "\n",
       "       att8      att9     att10  ...    att504    att505    att506    att507  \\\n",
       "0  1.456243  2.558373 -0.518009  ... -0.518009 -0.518009 -0.518009 -0.518009   \n",
       "1 -0.353115 -0.353115 -0.353115  ...  3.365590 -0.353115 -0.353115 -0.353115   \n",
       "\n",
       "     att508    att509    att510    att511    att512  target  \n",
       "0 -0.518009 -0.518009 -0.518009  1.465826 -0.518009    b'1'  \n",
       "1 -0.353115 -0.353115 -0.353115 -0.353115 -0.353115    b'0'  \n",
       "\n",
       "[2 rows x 513 columns]"
      ]
     },
     "metadata": {},
     "output_type": "display_data"
    },
    {
     "data": {
      "text/html": [
       "<div>\n",
       "<style scoped>\n",
       "    .dataframe tbody tr th:only-of-type {\n",
       "        vertical-align: middle;\n",
       "    }\n",
       "\n",
       "    .dataframe tbody tr th {\n",
       "        vertical-align: top;\n",
       "    }\n",
       "\n",
       "    .dataframe thead th {\n",
       "        text-align: right;\n",
       "    }\n",
       "</style>\n",
       "<table border=\"1\" class=\"dataframe\">\n",
       "  <thead>\n",
       "    <tr style=\"text-align: right;\">\n",
       "      <th></th>\n",
       "      <th>att1</th>\n",
       "      <th>att2</th>\n",
       "      <th>att3</th>\n",
       "      <th>att4</th>\n",
       "      <th>att5</th>\n",
       "      <th>att6</th>\n",
       "      <th>att7</th>\n",
       "      <th>att8</th>\n",
       "      <th>att9</th>\n",
       "      <th>att10</th>\n",
       "      <th>...</th>\n",
       "      <th>att504</th>\n",
       "      <th>att505</th>\n",
       "      <th>att506</th>\n",
       "      <th>att507</th>\n",
       "      <th>att508</th>\n",
       "      <th>att509</th>\n",
       "      <th>att510</th>\n",
       "      <th>att511</th>\n",
       "      <th>att512</th>\n",
       "      <th>target</th>\n",
       "    </tr>\n",
       "  </thead>\n",
       "  <tbody>\n",
       "    <tr>\n",
       "      <th>0</th>\n",
       "      <td>-0.269272</td>\n",
       "      <td>-0.269272</td>\n",
       "      <td>-0.269272</td>\n",
       "      <td>-0.269272</td>\n",
       "      <td>-0.269272</td>\n",
       "      <td>3.136935</td>\n",
       "      <td>-0.269272</td>\n",
       "      <td>-0.269272</td>\n",
       "      <td>2.984190</td>\n",
       "      <td>-0.269272</td>\n",
       "      <td>...</td>\n",
       "      <td>-0.269272</td>\n",
       "      <td>-0.269272</td>\n",
       "      <td>-0.269272</td>\n",
       "      <td>-0.269272</td>\n",
       "      <td>-0.269272</td>\n",
       "      <td>-0.269272</td>\n",
       "      <td>-0.269272</td>\n",
       "      <td>-0.269272</td>\n",
       "      <td>-0.269272</td>\n",
       "      <td>b'0'</td>\n",
       "    </tr>\n",
       "    <tr>\n",
       "      <th>1</th>\n",
       "      <td>-0.468873</td>\n",
       "      <td>2.748038</td>\n",
       "      <td>1.626291</td>\n",
       "      <td>-0.468873</td>\n",
       "      <td>-0.468873</td>\n",
       "      <td>-0.468873</td>\n",
       "      <td>-0.468873</td>\n",
       "      <td>-0.468873</td>\n",
       "      <td>1.663373</td>\n",
       "      <td>-0.468873</td>\n",
       "      <td>...</td>\n",
       "      <td>1.617020</td>\n",
       "      <td>-0.468873</td>\n",
       "      <td>2.062011</td>\n",
       "      <td>-0.468873</td>\n",
       "      <td>-0.468873</td>\n",
       "      <td>-0.468873</td>\n",
       "      <td>-0.468873</td>\n",
       "      <td>1.635561</td>\n",
       "      <td>-0.468873</td>\n",
       "      <td>b'1'</td>\n",
       "    </tr>\n",
       "  </tbody>\n",
       "</table>\n",
       "<p>2 rows × 513 columns</p>\n",
       "</div>"
      ],
      "text/plain": [
       "       att1      att2      att3      att4      att5      att6      att7  \\\n",
       "0 -0.269272 -0.269272 -0.269272 -0.269272 -0.269272  3.136935 -0.269272   \n",
       "1 -0.468873  2.748038  1.626291 -0.468873 -0.468873 -0.468873 -0.468873   \n",
       "\n",
       "       att8      att9     att10  ...    att504    att505    att506    att507  \\\n",
       "0 -0.269272  2.984190 -0.269272  ... -0.269272 -0.269272 -0.269272 -0.269272   \n",
       "1 -0.468873  1.663373 -0.468873  ...  1.617020 -0.468873  2.062011 -0.468873   \n",
       "\n",
       "     att508    att509    att510    att511    att512  target  \n",
       "0 -0.269272 -0.269272 -0.269272 -0.269272 -0.269272    b'0'  \n",
       "1 -0.468873 -0.468873 -0.468873  1.635561 -0.468873    b'1'  \n",
       "\n",
       "[2 rows x 513 columns]"
      ]
     },
     "metadata": {},
     "output_type": "display_data"
    }
   ],
   "source": [
    "data_train_raw = loadarff('../data_EQ_UCR/Earthquakes_TRAIN.arff')\n",
    "df_train = pd.DataFrame(data_train_raw[0])\n",
    "\n",
    "data_test_raw = loadarff('../data_EQ_UCR/Earthquakes_TEST.arff')\n",
    "df_test = pd.DataFrame(data_test_raw[0])\n",
    "\n",
    "print(df_train.shape, df_test.shape)\n",
    "display(df_train.head(2))\n",
    "display(df_test.head(2))"
   ]
  },
  {
   "cell_type": "code",
   "execution_count": 3,
   "id": "57cf527c",
   "metadata": {},
   "outputs": [
    {
     "data": {
      "text/plain": [
       "b'0'    264\n",
       "b'1'     58\n",
       "Name: target, dtype: int64"
      ]
     },
     "execution_count": 3,
     "metadata": {},
     "output_type": "execute_result"
    }
   ],
   "source": [
    "df_train['target'].value_counts()"
   ]
  },
  {
   "cell_type": "code",
   "execution_count": 4,
   "id": "f762d092",
   "metadata": {},
   "outputs": [
    {
     "data": {
      "text/plain": [
       "b'0'    104\n",
       "b'1'     35\n",
       "Name: target, dtype: int64"
      ]
     },
     "execution_count": 4,
     "metadata": {},
     "output_type": "execute_result"
    }
   ],
   "source": [
    "df_test['target'].value_counts()"
   ]
  },
  {
   "cell_type": "markdown",
   "id": "021b3733",
   "metadata": {},
   "source": [
    "data source: \n",
    "\n",
    "https://timeseriesclassification.com/description.php?Dataset=Earthquakes\n",
    "\n",
    "The earthquake classification problem involves predicting whether a major event is about to occur based on the most recent readings in the surrounding area. The data is taken from Northern California Earthquake Data Center and each data is an averaged reading for one hour, with the first reading taken on Dec 1st 1967, the last in 2003. We transform this single time series into a classification problem by first defining a major event as any reading of over 5 on the Rictor scale. Major events are often followed by aftershocks. The physics of these are well understood and their detection is not the objective of this exercise. Hence we consider a positive case to be one where a major event is not preceded by another major event for at least 512 hours. To construct a negative case, we consider instances where there is a reading below 4 (to avoid blurring of the boundaries between major and non major events) that is preceded by at least 20 readings in the previous 512 hours that are non-zero (to avoid trivial negative cases). None of the cases overlap in time (i.e. we perform a segmentation rather than use a sliding window). Of the 86,066 hourly readings, we produce 368 negative cases and 93 positive.\n",
    "\n",
    "Train Size: 322\n",
    "Test Size: 139\n",
    "Length: 512\n",
    "Number of Classes: 2\n",
    "Number of Dimensions: 1\n",
    "\n",
    "Best Algorithm: RotF\n",
    "\n",
    "Best Accuracy: 75.92%\n",
    "\n",
    "PoC: A. Bagnall\n",
    "\n",
    "Relevant Papers:\n",
    "\n",
    "Bagnall, Anthony, Luke Davis, Jon Hills, and Jason Lines. \"Transformation based ensembles for time series classification.\" In Proceedings of the 2012 SIAM international conference on data mining, pp. 307-318. Society for Industrial and Applied Mathematics, 2012.\n",
    "\n",
    "Bagnall, Anthony, M. Flynn, J. Large, J. Line, A. Bostrom, and G. Cawley. \"Is rotation forest the best classifier for problems with continuous features?.\" arXiv preprint arXiv:1809.06705 (2018).\n",
    "\n",
    "Relevant Sites:\n",
    "\n",
    "https://timeseriesclassification.com/description.php?Dataset=Earthquakes\n",
    "\n",
    "https://timeseriesclassification.com/\n",
    "\n",
    "https://github.com/sktime/sktime\n",
    "\n",
    "https://pypi.org/project/sktime/"
   ]
  },
  {
   "cell_type": "code",
   "execution_count": 5,
   "id": "e43d4157",
   "metadata": {},
   "outputs": [
    {
     "name": "stdout",
     "output_type": "stream",
     "text": [
      "(461, 513) (322, 513) (139, 513)\n",
      "461\n"
     ]
    },
    {
     "data": {
      "text/html": [
       "<div>\n",
       "<style scoped>\n",
       "    .dataframe tbody tr th:only-of-type {\n",
       "        vertical-align: middle;\n",
       "    }\n",
       "\n",
       "    .dataframe tbody tr th {\n",
       "        vertical-align: top;\n",
       "    }\n",
       "\n",
       "    .dataframe thead th {\n",
       "        text-align: right;\n",
       "    }\n",
       "</style>\n",
       "<table border=\"1\" class=\"dataframe\">\n",
       "  <thead>\n",
       "    <tr style=\"text-align: right;\">\n",
       "      <th></th>\n",
       "      <th>att1</th>\n",
       "      <th>att2</th>\n",
       "      <th>att3</th>\n",
       "      <th>att4</th>\n",
       "      <th>att5</th>\n",
       "      <th>att6</th>\n",
       "      <th>att7</th>\n",
       "      <th>att8</th>\n",
       "      <th>att9</th>\n",
       "      <th>att10</th>\n",
       "      <th>...</th>\n",
       "      <th>att504</th>\n",
       "      <th>att505</th>\n",
       "      <th>att506</th>\n",
       "      <th>att507</th>\n",
       "      <th>att508</th>\n",
       "      <th>att509</th>\n",
       "      <th>att510</th>\n",
       "      <th>att511</th>\n",
       "      <th>att512</th>\n",
       "      <th>target</th>\n",
       "    </tr>\n",
       "  </thead>\n",
       "  <tbody>\n",
       "    <tr>\n",
       "      <th>0</th>\n",
       "      <td>-0.518009</td>\n",
       "      <td>-0.518009</td>\n",
       "      <td>2.654211</td>\n",
       "      <td>-0.518009</td>\n",
       "      <td>-0.518009</td>\n",
       "      <td>-0.518009</td>\n",
       "      <td>-0.518009</td>\n",
       "      <td>1.456243</td>\n",
       "      <td>2.558373</td>\n",
       "      <td>-0.518009</td>\n",
       "      <td>...</td>\n",
       "      <td>-0.518009</td>\n",
       "      <td>-0.518009</td>\n",
       "      <td>-0.518009</td>\n",
       "      <td>-0.518009</td>\n",
       "      <td>-0.518009</td>\n",
       "      <td>-0.518009</td>\n",
       "      <td>-0.518009</td>\n",
       "      <td>1.465826</td>\n",
       "      <td>-0.518009</td>\n",
       "      <td>b'1'</td>\n",
       "    </tr>\n",
       "    <tr>\n",
       "      <th>1</th>\n",
       "      <td>1.943733</td>\n",
       "      <td>-0.353115</td>\n",
       "      <td>-0.353115</td>\n",
       "      <td>-0.353115</td>\n",
       "      <td>-0.353115</td>\n",
       "      <td>-0.353115</td>\n",
       "      <td>-0.353115</td>\n",
       "      <td>-0.353115</td>\n",
       "      <td>-0.353115</td>\n",
       "      <td>-0.353115</td>\n",
       "      <td>...</td>\n",
       "      <td>3.365590</td>\n",
       "      <td>-0.353115</td>\n",
       "      <td>-0.353115</td>\n",
       "      <td>-0.353115</td>\n",
       "      <td>-0.353115</td>\n",
       "      <td>-0.353115</td>\n",
       "      <td>-0.353115</td>\n",
       "      <td>-0.353115</td>\n",
       "      <td>-0.353115</td>\n",
       "      <td>b'0'</td>\n",
       "    </tr>\n",
       "    <tr>\n",
       "      <th>2</th>\n",
       "      <td>2.638517</td>\n",
       "      <td>-0.316102</td>\n",
       "      <td>-0.316102</td>\n",
       "      <td>-0.316102</td>\n",
       "      <td>-0.316102</td>\n",
       "      <td>-0.316102</td>\n",
       "      <td>-0.316102</td>\n",
       "      <td>-0.316102</td>\n",
       "      <td>-0.316102</td>\n",
       "      <td>-0.316102</td>\n",
       "      <td>...</td>\n",
       "      <td>-0.316102</td>\n",
       "      <td>-0.316102</td>\n",
       "      <td>-0.316102</td>\n",
       "      <td>-0.316102</td>\n",
       "      <td>-0.316102</td>\n",
       "      <td>-0.316102</td>\n",
       "      <td>-0.316102</td>\n",
       "      <td>-0.316102</td>\n",
       "      <td>-0.316102</td>\n",
       "      <td>b'0'</td>\n",
       "    </tr>\n",
       "  </tbody>\n",
       "</table>\n",
       "<p>3 rows × 513 columns</p>\n",
       "</div>"
      ],
      "text/plain": [
       "       att1      att2      att3      att4      att5      att6      att7  \\\n",
       "0 -0.518009 -0.518009  2.654211 -0.518009 -0.518009 -0.518009 -0.518009   \n",
       "1  1.943733 -0.353115 -0.353115 -0.353115 -0.353115 -0.353115 -0.353115   \n",
       "2  2.638517 -0.316102 -0.316102 -0.316102 -0.316102 -0.316102 -0.316102   \n",
       "\n",
       "       att8      att9     att10  ...    att504    att505    att506    att507  \\\n",
       "0  1.456243  2.558373 -0.518009  ... -0.518009 -0.518009 -0.518009 -0.518009   \n",
       "1 -0.353115 -0.353115 -0.353115  ...  3.365590 -0.353115 -0.353115 -0.353115   \n",
       "2 -0.316102 -0.316102 -0.316102  ... -0.316102 -0.316102 -0.316102 -0.316102   \n",
       "\n",
       "     att508    att509    att510    att511    att512  target  \n",
       "0 -0.518009 -0.518009 -0.518009  1.465826 -0.518009    b'1'  \n",
       "1 -0.353115 -0.353115 -0.353115 -0.353115 -0.353115    b'0'  \n",
       "2 -0.316102 -0.316102 -0.316102 -0.316102 -0.316102    b'0'  \n",
       "\n",
       "[3 rows x 513 columns]"
      ]
     },
     "metadata": {},
     "output_type": "display_data"
    },
    {
     "data": {
      "text/html": [
       "<div>\n",
       "<style scoped>\n",
       "    .dataframe tbody tr th:only-of-type {\n",
       "        vertical-align: middle;\n",
       "    }\n",
       "\n",
       "    .dataframe tbody tr th {\n",
       "        vertical-align: top;\n",
       "    }\n",
       "\n",
       "    .dataframe thead th {\n",
       "        text-align: right;\n",
       "    }\n",
       "</style>\n",
       "<table border=\"1\" class=\"dataframe\">\n",
       "  <thead>\n",
       "    <tr style=\"text-align: right;\">\n",
       "      <th></th>\n",
       "      <th>att1</th>\n",
       "      <th>att2</th>\n",
       "      <th>att3</th>\n",
       "      <th>att4</th>\n",
       "      <th>att5</th>\n",
       "      <th>att6</th>\n",
       "      <th>att7</th>\n",
       "      <th>att8</th>\n",
       "      <th>att9</th>\n",
       "      <th>att10</th>\n",
       "      <th>...</th>\n",
       "      <th>att504</th>\n",
       "      <th>att505</th>\n",
       "      <th>att506</th>\n",
       "      <th>att507</th>\n",
       "      <th>att508</th>\n",
       "      <th>att509</th>\n",
       "      <th>att510</th>\n",
       "      <th>att511</th>\n",
       "      <th>att512</th>\n",
       "      <th>target</th>\n",
       "    </tr>\n",
       "  </thead>\n",
       "  <tbody>\n",
       "    <tr>\n",
       "      <th>458</th>\n",
       "      <td>1.852363</td>\n",
       "      <td>2.022497</td>\n",
       "      <td>-0.556382</td>\n",
       "      <td>-0.556382</td>\n",
       "      <td>-0.556382</td>\n",
       "      <td>1.431504</td>\n",
       "      <td>-0.556382</td>\n",
       "      <td>-0.556382</td>\n",
       "      <td>1.762819</td>\n",
       "      <td>-0.556382</td>\n",
       "      <td>...</td>\n",
       "      <td>-0.556382</td>\n",
       "      <td>-0.556382</td>\n",
       "      <td>-0.556382</td>\n",
       "      <td>-0.556382</td>\n",
       "      <td>-0.556382</td>\n",
       "      <td>-0.556382</td>\n",
       "      <td>-0.556382</td>\n",
       "      <td>-0.556382</td>\n",
       "      <td>-0.556382</td>\n",
       "      <td>b'1'</td>\n",
       "    </tr>\n",
       "    <tr>\n",
       "      <th>459</th>\n",
       "      <td>-0.448388</td>\n",
       "      <td>-0.448388</td>\n",
       "      <td>-0.448388</td>\n",
       "      <td>-0.448388</td>\n",
       "      <td>-0.448388</td>\n",
       "      <td>-0.448388</td>\n",
       "      <td>-0.448388</td>\n",
       "      <td>2.279107</td>\n",
       "      <td>-0.448388</td>\n",
       "      <td>-0.448388</td>\n",
       "      <td>...</td>\n",
       "      <td>-0.448388</td>\n",
       "      <td>-0.448388</td>\n",
       "      <td>-0.448388</td>\n",
       "      <td>-0.448388</td>\n",
       "      <td>-0.448388</td>\n",
       "      <td>-0.448388</td>\n",
       "      <td>-0.448388</td>\n",
       "      <td>1.983100</td>\n",
       "      <td>-0.448388</td>\n",
       "      <td>b'0'</td>\n",
       "    </tr>\n",
       "    <tr>\n",
       "      <th>460</th>\n",
       "      <td>-0.463868</td>\n",
       "      <td>1.604722</td>\n",
       "      <td>-0.463868</td>\n",
       "      <td>-0.463868</td>\n",
       "      <td>-0.463868</td>\n",
       "      <td>-0.463868</td>\n",
       "      <td>-0.463868</td>\n",
       "      <td>-0.463868</td>\n",
       "      <td>-0.463868</td>\n",
       "      <td>-0.463868</td>\n",
       "      <td>...</td>\n",
       "      <td>-0.463868</td>\n",
       "      <td>-0.463868</td>\n",
       "      <td>1.961375</td>\n",
       "      <td>-0.463868</td>\n",
       "      <td>-0.463868</td>\n",
       "      <td>2.552401</td>\n",
       "      <td>-0.463868</td>\n",
       "      <td>-0.463868</td>\n",
       "      <td>-0.463868</td>\n",
       "      <td>b'0'</td>\n",
       "    </tr>\n",
       "  </tbody>\n",
       "</table>\n",
       "<p>3 rows × 513 columns</p>\n",
       "</div>"
      ],
      "text/plain": [
       "         att1      att2      att3      att4      att5      att6      att7  \\\n",
       "458  1.852363  2.022497 -0.556382 -0.556382 -0.556382  1.431504 -0.556382   \n",
       "459 -0.448388 -0.448388 -0.448388 -0.448388 -0.448388 -0.448388 -0.448388   \n",
       "460 -0.463868  1.604722 -0.463868 -0.463868 -0.463868 -0.463868 -0.463868   \n",
       "\n",
       "         att8      att9     att10  ...    att504    att505    att506  \\\n",
       "458 -0.556382  1.762819 -0.556382  ... -0.556382 -0.556382 -0.556382   \n",
       "459  2.279107 -0.448388 -0.448388  ... -0.448388 -0.448388 -0.448388   \n",
       "460 -0.463868 -0.463868 -0.463868  ... -0.463868 -0.463868  1.961375   \n",
       "\n",
       "       att507    att508    att509    att510    att511    att512  target  \n",
       "458 -0.556382 -0.556382 -0.556382 -0.556382 -0.556382 -0.556382    b'1'  \n",
       "459 -0.448388 -0.448388 -0.448388 -0.448388  1.983100 -0.448388    b'0'  \n",
       "460 -0.463868 -0.463868  2.552401 -0.463868 -0.463868 -0.463868    b'0'  \n",
       "\n",
       "[3 rows x 513 columns]"
      ]
     },
     "metadata": {},
     "output_type": "display_data"
    }
   ],
   "source": [
    "df = pd.concat([df_train, df_test])\n",
    "df = df.reset_index(drop=True)\n",
    "print(df.shape, df_train.shape, df_test.shape)\n",
    "print(322 + 139)\n",
    "\n",
    "display(df.head(3))\n",
    "display(df.tail(3))"
   ]
  },
  {
   "cell_type": "code",
   "execution_count": 6,
   "id": "300df71c",
   "metadata": {},
   "outputs": [
    {
     "data": {
      "text/plain": [
       "Index(['att1', 'att2', 'att3', 'att4', 'att5', 'att6', 'att7', 'att8', 'att9',\n",
       "       'att10',\n",
       "       ...\n",
       "       'att504', 'att505', 'att506', 'att507', 'att508', 'att509', 'att510',\n",
       "       'att511', 'att512', 'target'],\n",
       "      dtype='object', length=513)"
      ]
     },
     "execution_count": 6,
     "metadata": {},
     "output_type": "execute_result"
    }
   ],
   "source": [
    "df.columns"
   ]
  },
  {
   "cell_type": "markdown",
   "id": "037e9b1f",
   "metadata": {},
   "source": [
    "### Prepare Data for Feature Extraction"
   ]
  },
  {
   "cell_type": "code",
   "execution_count": 7,
   "id": "34fb0288",
   "metadata": {},
   "outputs": [
    {
     "name": "stdout",
     "output_type": "stream",
     "text": [
      "(461, 512) (461, 1)\n"
     ]
    }
   ],
   "source": [
    "# separate target-label col from feature columns\n",
    "\n",
    "df_y = df[['target']]\n",
    "df_X = df.drop('target', axis=1)\n",
    "\n",
    "print(df_X.shape, df_y.shape)"
   ]
  },
  {
   "cell_type": "code",
   "execution_count": 8,
   "id": "5af820a3",
   "metadata": {},
   "outputs": [
    {
     "data": {
      "text/html": [
       "<div>\n",
       "<style scoped>\n",
       "    .dataframe tbody tr th:only-of-type {\n",
       "        vertical-align: middle;\n",
       "    }\n",
       "\n",
       "    .dataframe tbody tr th {\n",
       "        vertical-align: top;\n",
       "    }\n",
       "\n",
       "    .dataframe thead th {\n",
       "        text-align: right;\n",
       "    }\n",
       "</style>\n",
       "<table border=\"1\" class=\"dataframe\">\n",
       "  <thead>\n",
       "    <tr style=\"text-align: right;\">\n",
       "      <th></th>\n",
       "      <th>att1</th>\n",
       "      <th>att2</th>\n",
       "      <th>att3</th>\n",
       "      <th>att4</th>\n",
       "      <th>att5</th>\n",
       "      <th>att6</th>\n",
       "      <th>att7</th>\n",
       "      <th>att8</th>\n",
       "      <th>att9</th>\n",
       "      <th>att10</th>\n",
       "      <th>...</th>\n",
       "      <th>att503</th>\n",
       "      <th>att504</th>\n",
       "      <th>att505</th>\n",
       "      <th>att506</th>\n",
       "      <th>att507</th>\n",
       "      <th>att508</th>\n",
       "      <th>att509</th>\n",
       "      <th>att510</th>\n",
       "      <th>att511</th>\n",
       "      <th>att512</th>\n",
       "    </tr>\n",
       "  </thead>\n",
       "  <tbody>\n",
       "    <tr>\n",
       "      <th>0</th>\n",
       "      <td>-0.518009</td>\n",
       "      <td>-0.518009</td>\n",
       "      <td>2.654211</td>\n",
       "      <td>-0.518009</td>\n",
       "      <td>-0.518009</td>\n",
       "      <td>-0.518009</td>\n",
       "      <td>-0.518009</td>\n",
       "      <td>1.456243</td>\n",
       "      <td>2.558373</td>\n",
       "      <td>-0.518009</td>\n",
       "      <td>...</td>\n",
       "      <td>-0.518009</td>\n",
       "      <td>-0.518009</td>\n",
       "      <td>-0.518009</td>\n",
       "      <td>-0.518009</td>\n",
       "      <td>-0.518009</td>\n",
       "      <td>-0.518009</td>\n",
       "      <td>-0.518009</td>\n",
       "      <td>-0.518009</td>\n",
       "      <td>1.465826</td>\n",
       "      <td>-0.518009</td>\n",
       "    </tr>\n",
       "    <tr>\n",
       "      <th>1</th>\n",
       "      <td>1.943733</td>\n",
       "      <td>-0.353115</td>\n",
       "      <td>-0.353115</td>\n",
       "      <td>-0.353115</td>\n",
       "      <td>-0.353115</td>\n",
       "      <td>-0.353115</td>\n",
       "      <td>-0.353115</td>\n",
       "      <td>-0.353115</td>\n",
       "      <td>-0.353115</td>\n",
       "      <td>-0.353115</td>\n",
       "      <td>...</td>\n",
       "      <td>2.457789</td>\n",
       "      <td>3.365590</td>\n",
       "      <td>-0.353115</td>\n",
       "      <td>-0.353115</td>\n",
       "      <td>-0.353115</td>\n",
       "      <td>-0.353115</td>\n",
       "      <td>-0.353115</td>\n",
       "      <td>-0.353115</td>\n",
       "      <td>-0.353115</td>\n",
       "      <td>-0.353115</td>\n",
       "    </tr>\n",
       "    <tr>\n",
       "      <th>2</th>\n",
       "      <td>2.638517</td>\n",
       "      <td>-0.316102</td>\n",
       "      <td>-0.316102</td>\n",
       "      <td>-0.316102</td>\n",
       "      <td>-0.316102</td>\n",
       "      <td>-0.316102</td>\n",
       "      <td>-0.316102</td>\n",
       "      <td>-0.316102</td>\n",
       "      <td>-0.316102</td>\n",
       "      <td>-0.316102</td>\n",
       "      <td>...</td>\n",
       "      <td>-0.316102</td>\n",
       "      <td>-0.316102</td>\n",
       "      <td>-0.316102</td>\n",
       "      <td>-0.316102</td>\n",
       "      <td>-0.316102</td>\n",
       "      <td>-0.316102</td>\n",
       "      <td>-0.316102</td>\n",
       "      <td>-0.316102</td>\n",
       "      <td>-0.316102</td>\n",
       "      <td>-0.316102</td>\n",
       "    </tr>\n",
       "    <tr>\n",
       "      <th>3</th>\n",
       "      <td>-0.531138</td>\n",
       "      <td>-0.531138</td>\n",
       "      <td>-0.531138</td>\n",
       "      <td>-0.531138</td>\n",
       "      <td>-0.531138</td>\n",
       "      <td>-0.531138</td>\n",
       "      <td>-0.531138</td>\n",
       "      <td>-0.531138</td>\n",
       "      <td>-0.531138</td>\n",
       "      <td>-0.531138</td>\n",
       "      <td>...</td>\n",
       "      <td>1.366900</td>\n",
       "      <td>-0.531138</td>\n",
       "      <td>2.147402</td>\n",
       "      <td>-0.531138</td>\n",
       "      <td>-0.531138</td>\n",
       "      <td>-0.531138</td>\n",
       "      <td>-0.531138</td>\n",
       "      <td>-0.531138</td>\n",
       "      <td>-0.531138</td>\n",
       "      <td>-0.531138</td>\n",
       "    </tr>\n",
       "    <tr>\n",
       "      <th>4</th>\n",
       "      <td>-0.593665</td>\n",
       "      <td>2.020105</td>\n",
       "      <td>1.174727</td>\n",
       "      <td>-0.593665</td>\n",
       "      <td>-0.593665</td>\n",
       "      <td>1.606043</td>\n",
       "      <td>1.217859</td>\n",
       "      <td>1.588790</td>\n",
       "      <td>-0.593665</td>\n",
       "      <td>-0.593665</td>\n",
       "      <td>...</td>\n",
       "      <td>1.226485</td>\n",
       "      <td>-0.593665</td>\n",
       "      <td>-0.593665</td>\n",
       "      <td>-0.593665</td>\n",
       "      <td>1.493901</td>\n",
       "      <td>-0.593665</td>\n",
       "      <td>-0.593665</td>\n",
       "      <td>-0.593665</td>\n",
       "      <td>1.899337</td>\n",
       "      <td>-0.593665</td>\n",
       "    </tr>\n",
       "  </tbody>\n",
       "</table>\n",
       "<p>5 rows × 512 columns</p>\n",
       "</div>"
      ],
      "text/plain": [
       "       att1      att2      att3      att4      att5      att6      att7  \\\n",
       "0 -0.518009 -0.518009  2.654211 -0.518009 -0.518009 -0.518009 -0.518009   \n",
       "1  1.943733 -0.353115 -0.353115 -0.353115 -0.353115 -0.353115 -0.353115   \n",
       "2  2.638517 -0.316102 -0.316102 -0.316102 -0.316102 -0.316102 -0.316102   \n",
       "3 -0.531138 -0.531138 -0.531138 -0.531138 -0.531138 -0.531138 -0.531138   \n",
       "4 -0.593665  2.020105  1.174727 -0.593665 -0.593665  1.606043  1.217859   \n",
       "\n",
       "       att8      att9     att10  ...    att503    att504    att505    att506  \\\n",
       "0  1.456243  2.558373 -0.518009  ... -0.518009 -0.518009 -0.518009 -0.518009   \n",
       "1 -0.353115 -0.353115 -0.353115  ...  2.457789  3.365590 -0.353115 -0.353115   \n",
       "2 -0.316102 -0.316102 -0.316102  ... -0.316102 -0.316102 -0.316102 -0.316102   \n",
       "3 -0.531138 -0.531138 -0.531138  ...  1.366900 -0.531138  2.147402 -0.531138   \n",
       "4  1.588790 -0.593665 -0.593665  ...  1.226485 -0.593665 -0.593665 -0.593665   \n",
       "\n",
       "     att507    att508    att509    att510    att511    att512  \n",
       "0 -0.518009 -0.518009 -0.518009 -0.518009  1.465826 -0.518009  \n",
       "1 -0.353115 -0.353115 -0.353115 -0.353115 -0.353115 -0.353115  \n",
       "2 -0.316102 -0.316102 -0.316102 -0.316102 -0.316102 -0.316102  \n",
       "3 -0.531138 -0.531138 -0.531138 -0.531138 -0.531138 -0.531138  \n",
       "4  1.493901 -0.593665 -0.593665 -0.593665  1.899337 -0.593665  \n",
       "\n",
       "[5 rows x 512 columns]"
      ]
     },
     "execution_count": 8,
     "metadata": {},
     "output_type": "execute_result"
    }
   ],
   "source": [
    "df_X.head()"
   ]
  },
  {
   "cell_type": "code",
   "execution_count": 9,
   "id": "d8c84389",
   "metadata": {},
   "outputs": [],
   "source": [
    "# df_X"
   ]
  },
  {
   "cell_type": "code",
   "execution_count": 10,
   "id": "cf5a00f5",
   "metadata": {},
   "outputs": [],
   "source": [
    "df_X = df_X.reset_index()"
   ]
  },
  {
   "cell_type": "code",
   "execution_count": 11,
   "id": "dda09e6a",
   "metadata": {},
   "outputs": [],
   "source": [
    "df_X_melt = pd.melt(df_X, \n",
    "                    id_vars=['index'],\n",
    "                    value_vars=df_X.columns, \n",
    "                    var_name='step_cnt',\n",
    "                    value_name = 'val'\n",
    "                   )"
   ]
  },
  {
   "cell_type": "code",
   "execution_count": 12,
   "id": "63e09937",
   "metadata": {},
   "outputs": [
    {
     "data": {
      "text/html": [
       "<div>\n",
       "<style scoped>\n",
       "    .dataframe tbody tr th:only-of-type {\n",
       "        vertical-align: middle;\n",
       "    }\n",
       "\n",
       "    .dataframe tbody tr th {\n",
       "        vertical-align: top;\n",
       "    }\n",
       "\n",
       "    .dataframe thead th {\n",
       "        text-align: right;\n",
       "    }\n",
       "</style>\n",
       "<table border=\"1\" class=\"dataframe\">\n",
       "  <thead>\n",
       "    <tr style=\"text-align: right;\">\n",
       "      <th></th>\n",
       "      <th>index</th>\n",
       "      <th>step_cnt</th>\n",
       "      <th>val</th>\n",
       "    </tr>\n",
       "  </thead>\n",
       "  <tbody>\n",
       "    <tr>\n",
       "      <th>0</th>\n",
       "      <td>0</td>\n",
       "      <td>att1</td>\n",
       "      <td>-0.518009</td>\n",
       "    </tr>\n",
       "    <tr>\n",
       "      <th>1</th>\n",
       "      <td>1</td>\n",
       "      <td>att1</td>\n",
       "      <td>1.943733</td>\n",
       "    </tr>\n",
       "    <tr>\n",
       "      <th>2</th>\n",
       "      <td>2</td>\n",
       "      <td>att1</td>\n",
       "      <td>2.638517</td>\n",
       "    </tr>\n",
       "    <tr>\n",
       "      <th>3</th>\n",
       "      <td>3</td>\n",
       "      <td>att1</td>\n",
       "      <td>-0.531138</td>\n",
       "    </tr>\n",
       "    <tr>\n",
       "      <th>4</th>\n",
       "      <td>4</td>\n",
       "      <td>att1</td>\n",
       "      <td>-0.593665</td>\n",
       "    </tr>\n",
       "    <tr>\n",
       "      <th>...</th>\n",
       "      <td>...</td>\n",
       "      <td>...</td>\n",
       "      <td>...</td>\n",
       "    </tr>\n",
       "    <tr>\n",
       "      <th>236027</th>\n",
       "      <td>456</td>\n",
       "      <td>att512</td>\n",
       "      <td>-0.553787</td>\n",
       "    </tr>\n",
       "    <tr>\n",
       "      <th>236028</th>\n",
       "      <td>457</td>\n",
       "      <td>att512</td>\n",
       "      <td>-0.559495</td>\n",
       "    </tr>\n",
       "    <tr>\n",
       "      <th>236029</th>\n",
       "      <td>458</td>\n",
       "      <td>att512</td>\n",
       "      <td>-0.556382</td>\n",
       "    </tr>\n",
       "    <tr>\n",
       "      <th>236030</th>\n",
       "      <td>459</td>\n",
       "      <td>att512</td>\n",
       "      <td>-0.448388</td>\n",
       "    </tr>\n",
       "    <tr>\n",
       "      <th>236031</th>\n",
       "      <td>460</td>\n",
       "      <td>att512</td>\n",
       "      <td>-0.463868</td>\n",
       "    </tr>\n",
       "  </tbody>\n",
       "</table>\n",
       "<p>236032 rows × 3 columns</p>\n",
       "</div>"
      ],
      "text/plain": [
       "        index step_cnt       val\n",
       "0           0     att1 -0.518009\n",
       "1           1     att1  1.943733\n",
       "2           2     att1  2.638517\n",
       "3           3     att1 -0.531138\n",
       "4           4     att1 -0.593665\n",
       "...       ...      ...       ...\n",
       "236027    456   att512 -0.553787\n",
       "236028    457   att512 -0.559495\n",
       "236029    458   att512 -0.556382\n",
       "236030    459   att512 -0.448388\n",
       "236031    460   att512 -0.463868\n",
       "\n",
       "[236032 rows x 3 columns]"
      ]
     },
     "execution_count": 12,
     "metadata": {},
     "output_type": "execute_result"
    }
   ],
   "source": [
    "df_X_melt"
   ]
  },
  {
   "cell_type": "code",
   "execution_count": 13,
   "id": "ec8a3338",
   "metadata": {},
   "outputs": [],
   "source": [
    "# df_X_melt['index'].value_counts()"
   ]
  },
  {
   "cell_type": "markdown",
   "id": "2f8aab1a",
   "metadata": {},
   "source": [
    "### Viz Series"
   ]
  },
  {
   "cell_type": "code",
   "execution_count": 14,
   "id": "1e280996",
   "metadata": {},
   "outputs": [
    {
     "data": {
      "text/html": [
       "<div>\n",
       "<style scoped>\n",
       "    .dataframe tbody tr th:only-of-type {\n",
       "        vertical-align: middle;\n",
       "    }\n",
       "\n",
       "    .dataframe tbody tr th {\n",
       "        vertical-align: top;\n",
       "    }\n",
       "\n",
       "    .dataframe thead th {\n",
       "        text-align: right;\n",
       "    }\n",
       "</style>\n",
       "<table border=\"1\" class=\"dataframe\">\n",
       "  <thead>\n",
       "    <tr style=\"text-align: right;\">\n",
       "      <th></th>\n",
       "      <th>index</th>\n",
       "      <th>step_cnt</th>\n",
       "      <th>val</th>\n",
       "    </tr>\n",
       "  </thead>\n",
       "  <tbody>\n",
       "    <tr>\n",
       "      <th>0</th>\n",
       "      <td>0</td>\n",
       "      <td>att1</td>\n",
       "      <td>-0.518009</td>\n",
       "    </tr>\n",
       "    <tr>\n",
       "      <th>1</th>\n",
       "      <td>1</td>\n",
       "      <td>att1</td>\n",
       "      <td>1.943733</td>\n",
       "    </tr>\n",
       "  </tbody>\n",
       "</table>\n",
       "</div>"
      ],
      "text/plain": [
       "   index step_cnt       val\n",
       "0      0     att1 -0.518009\n",
       "1      1     att1  1.943733"
      ]
     },
     "execution_count": 14,
     "metadata": {},
     "output_type": "execute_result"
    }
   ],
   "source": [
    "df_X_melt.head(2)"
   ]
  },
  {
   "cell_type": "code",
   "execution_count": 15,
   "id": "a12775fe",
   "metadata": {},
   "outputs": [],
   "source": [
    "%matplotlib inline\n",
    "\n",
    "import matplotlib.pyplot as plt"
   ]
  },
  {
   "cell_type": "code",
   "execution_count": 16,
   "id": "8e8df21c",
   "metadata": {},
   "outputs": [
    {
     "name": "stderr",
     "output_type": "stream",
     "text": [
      "C:\\Users\\m85302\\AppData\\Local\\Temp\\ipykernel_1192\\251251691.py:4: MatplotlibDeprecationWarning: The seaborn styles shipped by Matplotlib are deprecated since 3.6, as they no longer correspond to the styles shipped by seaborn. However, they will remain available as 'seaborn-v0_8-<style>'. Alternatively, directly use the seaborn API instead.\n",
      "  plt.style.use('seaborn-poster')\n"
     ]
    },
    {
     "data": {
      "image/png": "[encoded data removed]",
      "text/plain": [
       "<Figure size 2000x500 with 1 Axes>"
      ]
     },
     "metadata": {},
     "output_type": "display_data"
    }
   ],
   "source": [
    "index_viz = 35\n",
    "\n",
    "plt.figure(figsize=(20,5))\n",
    "plt.style.use('seaborn-poster')\n",
    "df_viz1 = df_X_melt[df_X_melt['index'] == index_viz]\n",
    "df_viz1 = df_viz1.reset_index(drop=True)\n",
    "df_viz1['val'].plot();"
   ]
  },
  {
   "cell_type": "markdown",
   "id": "df4754e9",
   "metadata": {},
   "source": [
    "### Feature extraction from time series"
   ]
  },
  {
   "cell_type": "code",
   "execution_count": 17,
   "id": "f7d45fa7",
   "metadata": {},
   "outputs": [],
   "source": [
    "from tsfresh import extract_features"
   ]
  },
  {
   "cell_type": "code",
   "execution_count": 18,
   "id": "e858ac44",
   "metadata": {},
   "outputs": [],
   "source": [
    "# extracted_features = extract_features(df_melted, \n",
    "#                                       column_id=\"index\", \n",
    "#                                       column_sort=\"flux\")"
   ]
  },
  {
   "cell_type": "code",
   "execution_count": 19,
   "id": "5f3ed18c",
   "metadata": {},
   "outputs": [
    {
     "data": {
      "text/html": [
       "<div>\n",
       "<style scoped>\n",
       "    .dataframe tbody tr th:only-of-type {\n",
       "        vertical-align: middle;\n",
       "    }\n",
       "\n",
       "    .dataframe tbody tr th {\n",
       "        vertical-align: top;\n",
       "    }\n",
       "\n",
       "    .dataframe thead th {\n",
       "        text-align: right;\n",
       "    }\n",
       "</style>\n",
       "<table border=\"1\" class=\"dataframe\">\n",
       "  <thead>\n",
       "    <tr style=\"text-align: right;\">\n",
       "      <th></th>\n",
       "      <th>index</th>\n",
       "      <th>step_cnt</th>\n",
       "      <th>val</th>\n",
       "    </tr>\n",
       "  </thead>\n",
       "  <tbody>\n",
       "    <tr>\n",
       "      <th>0</th>\n",
       "      <td>0</td>\n",
       "      <td>att1</td>\n",
       "      <td>-0.518009</td>\n",
       "    </tr>\n",
       "    <tr>\n",
       "      <th>1</th>\n",
       "      <td>1</td>\n",
       "      <td>att1</td>\n",
       "      <td>1.943733</td>\n",
       "    </tr>\n",
       "  </tbody>\n",
       "</table>\n",
       "</div>"
      ],
      "text/plain": [
       "   index step_cnt       val\n",
       "0      0     att1 -0.518009\n",
       "1      1     att1  1.943733"
      ]
     },
     "execution_count": 19,
     "metadata": {},
     "output_type": "execute_result"
    }
   ],
   "source": [
    "df_X_melt.head(2)"
   ]
  },
  {
   "cell_type": "code",
   "execution_count": 20,
   "id": "88e20950",
   "metadata": {},
   "outputs": [
    {
     "name": "stderr",
     "output_type": "stream",
     "text": [
      "Feature Extraction: 100%|██████████████████████████████████████████████████████████████| 29/29 [00:31<00:00,  1.10s/it]\n"
     ]
    }
   ],
   "source": [
    "df_extract = extract_features(df_X_melt, \n",
    "                              column_id = 'index',\n",
    "                              column_sort = 'step_cnt'\n",
    "                             )"
   ]
  },
  {
   "cell_type": "code",
   "execution_count": 21,
   "id": "e80ace4f",
   "metadata": {},
   "outputs": [
    {
     "name": "stdout",
     "output_type": "stream",
     "text": [
      "(461, 513) (461, 513) (461, 1)\n",
      "(461, 783)\n"
     ]
    }
   ],
   "source": [
    "print(df.shape, df_X.shape, df_y.shape)\n",
    "print(df_extract.shape)"
   ]
  },
  {
   "cell_type": "code",
   "execution_count": 22,
   "id": "0c4f2d3b",
   "metadata": {
    "scrolled": true
   },
   "outputs": [
    {
     "data": {
      "text/html": [
       "<div>\n",
       "<style scoped>\n",
       "    .dataframe tbody tr th:only-of-type {\n",
       "        vertical-align: middle;\n",
       "    }\n",
       "\n",
       "    .dataframe tbody tr th {\n",
       "        vertical-align: top;\n",
       "    }\n",
       "\n",
       "    .dataframe thead th {\n",
       "        text-align: right;\n",
       "    }\n",
       "</style>\n",
       "<table border=\"1\" class=\"dataframe\">\n",
       "  <thead>\n",
       "    <tr style=\"text-align: right;\">\n",
       "      <th></th>\n",
       "      <th>val__variance_larger_than_standard_deviation</th>\n",
       "      <th>val__has_duplicate_max</th>\n",
       "      <th>val__has_duplicate_min</th>\n",
       "      <th>val__has_duplicate</th>\n",
       "      <th>val__sum_values</th>\n",
       "      <th>val__abs_energy</th>\n",
       "      <th>val__mean_abs_change</th>\n",
       "      <th>val__mean_change</th>\n",
       "      <th>val__mean_second_derivative_central</th>\n",
       "      <th>val__median</th>\n",
       "      <th>...</th>\n",
       "      <th>val__fourier_entropy__bins_5</th>\n",
       "      <th>val__fourier_entropy__bins_10</th>\n",
       "      <th>val__fourier_entropy__bins_100</th>\n",
       "      <th>val__permutation_entropy__dimension_3__tau_1</th>\n",
       "      <th>val__permutation_entropy__dimension_4__tau_1</th>\n",
       "      <th>val__permutation_entropy__dimension_5__tau_1</th>\n",
       "      <th>val__permutation_entropy__dimension_6__tau_1</th>\n",
       "      <th>val__permutation_entropy__dimension_7__tau_1</th>\n",
       "      <th>val__query_similarity_count__query_None__threshold_0.0</th>\n",
       "      <th>val__mean_n_absolute_max__number_of_maxima_7</th>\n",
       "    </tr>\n",
       "  </thead>\n",
       "  <tbody>\n",
       "    <tr>\n",
       "      <th>0</th>\n",
       "      <td>0.0</td>\n",
       "      <td>0.0</td>\n",
       "      <td>1.0</td>\n",
       "      <td>1.0</td>\n",
       "      <td>-1.600000e-06</td>\n",
       "      <td>511.000001</td>\n",
       "      <td>0.854810</td>\n",
       "      <td>0.000000</td>\n",
       "      <td>0.000000</td>\n",
       "      <td>-0.518009</td>\n",
       "      <td>...</td>\n",
       "      <td>1.059303</td>\n",
       "      <td>1.713239</td>\n",
       "      <td>3.677855</td>\n",
       "      <td>1.126175</td>\n",
       "      <td>1.772322</td>\n",
       "      <td>2.412038</td>\n",
       "      <td>3.011292</td>\n",
       "      <td>3.566047</td>\n",
       "      <td>NaN</td>\n",
       "      <td>3.026608</td>\n",
       "    </tr>\n",
       "    <tr>\n",
       "      <th>1</th>\n",
       "      <td>0.0</td>\n",
       "      <td>0.0</td>\n",
       "      <td>1.0</td>\n",
       "      <td>1.0</td>\n",
       "      <td>-6.400000e-07</td>\n",
       "      <td>511.000001</td>\n",
       "      <td>0.574479</td>\n",
       "      <td>-0.004495</td>\n",
       "      <td>0.002252</td>\n",
       "      <td>-0.353115</td>\n",
       "      <td>...</td>\n",
       "      <td>1.023638</td>\n",
       "      <td>1.688736</td>\n",
       "      <td>3.655390</td>\n",
       "      <td>0.722899</td>\n",
       "      <td>1.124103</td>\n",
       "      <td>1.508641</td>\n",
       "      <td>1.881498</td>\n",
       "      <td>2.209180</td>\n",
       "      <td>NaN</td>\n",
       "      <td>4.170268</td>\n",
       "    </tr>\n",
       "  </tbody>\n",
       "</table>\n",
       "<p>2 rows × 783 columns</p>\n",
       "</div>"
      ],
      "text/plain": [
       "   val__variance_larger_than_standard_deviation  val__has_duplicate_max  \\\n",
       "0                                           0.0                     0.0   \n",
       "1                                           0.0                     0.0   \n",
       "\n",
       "   val__has_duplicate_min  val__has_duplicate  val__sum_values  \\\n",
       "0                     1.0                 1.0    -1.600000e-06   \n",
       "1                     1.0                 1.0    -6.400000e-07   \n",
       "\n",
       "   val__abs_energy  val__mean_abs_change  val__mean_change  \\\n",
       "0       511.000001              0.854810          0.000000   \n",
       "1       511.000001              0.574479         -0.004495   \n",
       "\n",
       "   val__mean_second_derivative_central  val__median  ...  \\\n",
       "0                             0.000000    -0.518009  ...   \n",
       "1                             0.002252    -0.353115  ...   \n",
       "\n",
       "   val__fourier_entropy__bins_5  val__fourier_entropy__bins_10  \\\n",
       "0                      1.059303                       1.713239   \n",
       "1                      1.023638                       1.688736   \n",
       "\n",
       "   val__fourier_entropy__bins_100  \\\n",
       "0                        3.677855   \n",
       "1                        3.655390   \n",
       "\n",
       "   val__permutation_entropy__dimension_3__tau_1  \\\n",
       "0                                      1.126175   \n",
       "1                                      0.722899   \n",
       "\n",
       "   val__permutation_entropy__dimension_4__tau_1  \\\n",
       "0                                      1.772322   \n",
       "1                                      1.124103   \n",
       "\n",
       "   val__permutation_entropy__dimension_5__tau_1  \\\n",
       "0                                      2.412038   \n",
       "1                                      1.508641   \n",
       "\n",
       "   val__permutation_entropy__dimension_6__tau_1  \\\n",
       "0                                      3.011292   \n",
       "1                                      1.881498   \n",
       "\n",
       "   val__permutation_entropy__dimension_7__tau_1  \\\n",
       "0                                      3.566047   \n",
       "1                                      2.209180   \n",
       "\n",
       "   val__query_similarity_count__query_None__threshold_0.0  \\\n",
       "0                                                NaN        \n",
       "1                                                NaN        \n",
       "\n",
       "   val__mean_n_absolute_max__number_of_maxima_7  \n",
       "0                                      3.026608  \n",
       "1                                      4.170268  \n",
       "\n",
       "[2 rows x 783 columns]"
      ]
     },
     "execution_count": 22,
     "metadata": {},
     "output_type": "execute_result"
    }
   ],
   "source": [
    "df_extract.head(2)"
   ]
  },
  {
   "cell_type": "markdown",
   "id": "d2783456",
   "metadata": {},
   "source": [
    "### Prepare target class data format"
   ]
  },
  {
   "cell_type": "code",
   "execution_count": 23,
   "id": "e78c0530",
   "metadata": {},
   "outputs": [
    {
     "data": {
      "text/plain": [
       "target\n",
       "b'0'      368\n",
       "b'1'       93\n",
       "dtype: int64"
      ]
     },
     "execution_count": 23,
     "metadata": {},
     "output_type": "execute_result"
    }
   ],
   "source": [
    "df_y.value_counts()"
   ]
  },
  {
   "cell_type": "code",
   "execution_count": 24,
   "id": "f1c9e8cb",
   "metadata": {},
   "outputs": [
    {
     "data": {
      "text/plain": [
       "bytes"
      ]
     },
     "execution_count": 24,
     "metadata": {},
     "output_type": "execute_result"
    }
   ],
   "source": [
    "type(df_y['target'][0])"
   ]
  },
  {
   "cell_type": "code",
   "execution_count": 25,
   "id": "c2dbcab1",
   "metadata": {},
   "outputs": [
    {
     "data": {
      "text/plain": [
       "\"b'1'\""
      ]
     },
     "execution_count": 25,
     "metadata": {},
     "output_type": "execute_result"
    }
   ],
   "source": [
    "str(df_y['target'][0])"
   ]
  },
  {
   "cell_type": "code",
   "execution_count": 26,
   "id": "3074bd88",
   "metadata": {},
   "outputs": [
    {
     "data": {
      "text/plain": [
       "(461, 1)"
      ]
     },
     "execution_count": 26,
     "metadata": {},
     "output_type": "execute_result"
    }
   ],
   "source": [
    "df_y.shape"
   ]
  },
  {
   "cell_type": "code",
   "execution_count": 28,
   "id": "e7464d81",
   "metadata": {},
   "outputs": [
    {
     "name": "stderr",
     "output_type": "stream",
     "text": [
      "C:\\Users\\m85302\\AppData\\Local\\Temp\\ipykernel_1192\\1068490682.py:1: SettingWithCopyWarning: \n",
      "A value is trying to be set on a copy of a slice from a DataFrame.\n",
      "Try using .loc[row_indexer,col_indexer] = value instead\n",
      "\n",
      "See the caveats in the documentation: https://pandas.pydata.org/pandas-docs/stable/user_guide/indexing.html#returning-a-view-versus-a-copy\n",
      "  df_y['target2'] = np.nan\n",
      "C:\\Users\\m85302\\AppData\\Local\\Temp\\ipykernel_1192\\1068490682.py:3: SettingWithCopyWarning: \n",
      "A value is trying to be set on a copy of a slice from a DataFrame\n",
      "\n",
      "See the caveats in the documentation: https://pandas.pydata.org/pandas-docs/stable/user_guide/indexing.html#returning-a-view-versus-a-copy\n",
      "  df_y['target2'][i] = str(df_y['target'][i])\n"
     ]
    }
   ],
   "source": [
    "df_y['target2'] = np.nan\n",
    "for i in range(0, df_y.shape[0]):\n",
    "    df_y['target2'][i] = str(df_y['target'][i])\n",
    "    "
   ]
  },
  {
   "cell_type": "code",
   "execution_count": 32,
   "id": "163a93f3",
   "metadata": {},
   "outputs": [
    {
     "data": {
      "text/plain": [
       "\"b'0'\""
      ]
     },
     "execution_count": 32,
     "metadata": {},
     "output_type": "execute_result"
    }
   ],
   "source": [
    "df_y['target2'][1]"
   ]
  },
  {
   "cell_type": "code",
   "execution_count": 35,
   "id": "adb19006",
   "metadata": {},
   "outputs": [
    {
     "name": "stderr",
     "output_type": "stream",
     "text": [
      "C:\\Users\\m85302\\AppData\\Local\\Temp\\ipykernel_1192\\2323533715.py:1: SettingWithCopyWarning: \n",
      "A value is trying to be set on a copy of a slice from a DataFrame.\n",
      "Try using .loc[row_indexer,col_indexer] = value instead\n",
      "\n",
      "See the caveats in the documentation: https://pandas.pydata.org/pandas-docs/stable/user_guide/indexing.html#returning-a-view-versus-a-copy\n",
      "  df_y['target_val'] = np.nan\n",
      "C:\\Users\\m85302\\AppData\\Local\\Temp\\ipykernel_1192\\2323533715.py:4: SettingWithCopyWarning: \n",
      "A value is trying to be set on a copy of a slice from a DataFrame\n",
      "\n",
      "See the caveats in the documentation: https://pandas.pydata.org/pandas-docs/stable/user_guide/indexing.html#returning-a-view-versus-a-copy\n",
      "  df_y['target_val'][i] = 1\n",
      "C:\\Users\\m85302\\AppData\\Local\\Temp\\ipykernel_1192\\2323533715.py:6: SettingWithCopyWarning: \n",
      "A value is trying to be set on a copy of a slice from a DataFrame\n",
      "\n",
      "See the caveats in the documentation: https://pandas.pydata.org/pandas-docs/stable/user_guide/indexing.html#returning-a-view-versus-a-copy\n",
      "  df_y['target_val'][i] = 0\n"
     ]
    }
   ],
   "source": [
    "df_y['target_val'] = np.nan\n",
    "for i in range(0, df_y.shape[0]):\n",
    "    if df_y['target2'][i] == \"b'1'\":\n",
    "        df_y['target_val'][i] = 1\n",
    "    elif df_y['target2'][i] == \"b'0'\":\n",
    "        df_y['target_val'][i] = 0\n",
    "    else:\n",
    "        print('no match! check data!')\n",
    "        "
   ]
  },
  {
   "cell_type": "code",
   "execution_count": 36,
   "id": "b9eab932",
   "metadata": {},
   "outputs": [
    {
     "data": {
      "text/html": [
       "<div>\n",
       "<style scoped>\n",
       "    .dataframe tbody tr th:only-of-type {\n",
       "        vertical-align: middle;\n",
       "    }\n",
       "\n",
       "    .dataframe tbody tr th {\n",
       "        vertical-align: top;\n",
       "    }\n",
       "\n",
       "    .dataframe thead th {\n",
       "        text-align: right;\n",
       "    }\n",
       "</style>\n",
       "<table border=\"1\" class=\"dataframe\">\n",
       "  <thead>\n",
       "    <tr style=\"text-align: right;\">\n",
       "      <th></th>\n",
       "      <th>target</th>\n",
       "      <th>target2</th>\n",
       "      <th>target_val</th>\n",
       "    </tr>\n",
       "  </thead>\n",
       "  <tbody>\n",
       "    <tr>\n",
       "      <th>0</th>\n",
       "      <td>b'1'</td>\n",
       "      <td>b'1'</td>\n",
       "      <td>1.0</td>\n",
       "    </tr>\n",
       "    <tr>\n",
       "      <th>1</th>\n",
       "      <td>b'0'</td>\n",
       "      <td>b'0'</td>\n",
       "      <td>0.0</td>\n",
       "    </tr>\n",
       "    <tr>\n",
       "      <th>2</th>\n",
       "      <td>b'0'</td>\n",
       "      <td>b'0'</td>\n",
       "      <td>0.0</td>\n",
       "    </tr>\n",
       "    <tr>\n",
       "      <th>3</th>\n",
       "      <td>b'0'</td>\n",
       "      <td>b'0'</td>\n",
       "      <td>0.0</td>\n",
       "    </tr>\n",
       "    <tr>\n",
       "      <th>4</th>\n",
       "      <td>b'1'</td>\n",
       "      <td>b'1'</td>\n",
       "      <td>1.0</td>\n",
       "    </tr>\n",
       "    <tr>\n",
       "      <th>...</th>\n",
       "      <td>...</td>\n",
       "      <td>...</td>\n",
       "      <td>...</td>\n",
       "    </tr>\n",
       "    <tr>\n",
       "      <th>456</th>\n",
       "      <td>b'1'</td>\n",
       "      <td>b'1'</td>\n",
       "      <td>1.0</td>\n",
       "    </tr>\n",
       "    <tr>\n",
       "      <th>457</th>\n",
       "      <td>b'0'</td>\n",
       "      <td>b'0'</td>\n",
       "      <td>0.0</td>\n",
       "    </tr>\n",
       "    <tr>\n",
       "      <th>458</th>\n",
       "      <td>b'1'</td>\n",
       "      <td>b'1'</td>\n",
       "      <td>1.0</td>\n",
       "    </tr>\n",
       "    <tr>\n",
       "      <th>459</th>\n",
       "      <td>b'0'</td>\n",
       "      <td>b'0'</td>\n",
       "      <td>0.0</td>\n",
       "    </tr>\n",
       "    <tr>\n",
       "      <th>460</th>\n",
       "      <td>b'0'</td>\n",
       "      <td>b'0'</td>\n",
       "      <td>0.0</td>\n",
       "    </tr>\n",
       "  </tbody>\n",
       "</table>\n",
       "<p>461 rows × 3 columns</p>\n",
       "</div>"
      ],
      "text/plain": [
       "    target target2  target_val\n",
       "0     b'1'    b'1'         1.0\n",
       "1     b'0'    b'0'         0.0\n",
       "2     b'0'    b'0'         0.0\n",
       "3     b'0'    b'0'         0.0\n",
       "4     b'1'    b'1'         1.0\n",
       "..     ...     ...         ...\n",
       "456   b'1'    b'1'         1.0\n",
       "457   b'0'    b'0'         0.0\n",
       "458   b'1'    b'1'         1.0\n",
       "459   b'0'    b'0'         0.0\n",
       "460   b'0'    b'0'         0.0\n",
       "\n",
       "[461 rows x 3 columns]"
      ]
     },
     "execution_count": 36,
     "metadata": {},
     "output_type": "execute_result"
    }
   ],
   "source": [
    "df_y"
   ]
  },
  {
   "cell_type": "code",
   "execution_count": 38,
   "id": "4eeed672",
   "metadata": {},
   "outputs": [
    {
     "data": {
      "text/plain": [
       "0.0    368\n",
       "1.0     93\n",
       "Name: target_val, dtype: int64"
      ]
     },
     "execution_count": 38,
     "metadata": {},
     "output_type": "execute_result"
    }
   ],
   "source": [
    "df_y['target_val'].value_counts()"
   ]
  },
  {
   "cell_type": "code",
   "execution_count": 37,
   "id": "a500f8b5",
   "metadata": {},
   "outputs": [
    {
     "data": {
      "text/plain": [
       "b'0'    368\n",
       "b'1'     93\n",
       "Name: target, dtype: int64"
      ]
     },
     "execution_count": 37,
     "metadata": {},
     "output_type": "execute_result"
    }
   ],
   "source": [
    "df_y['target'].value_counts()"
   ]
  },
  {
   "cell_type": "code",
   "execution_count": 39,
   "id": "eee3f500",
   "metadata": {},
   "outputs": [
    {
     "data": {
      "text/html": [
       "<div>\n",
       "<style scoped>\n",
       "    .dataframe tbody tr th:only-of-type {\n",
       "        vertical-align: middle;\n",
       "    }\n",
       "\n",
       "    .dataframe tbody tr th {\n",
       "        vertical-align: top;\n",
       "    }\n",
       "\n",
       "    .dataframe thead th {\n",
       "        text-align: right;\n",
       "    }\n",
       "</style>\n",
       "<table border=\"1\" class=\"dataframe\">\n",
       "  <thead>\n",
       "    <tr style=\"text-align: right;\">\n",
       "      <th></th>\n",
       "      <th>target_val</th>\n",
       "    </tr>\n",
       "  </thead>\n",
       "  <tbody>\n",
       "    <tr>\n",
       "      <th>0</th>\n",
       "      <td>1.0</td>\n",
       "    </tr>\n",
       "    <tr>\n",
       "      <th>1</th>\n",
       "      <td>0.0</td>\n",
       "    </tr>\n",
       "    <tr>\n",
       "      <th>2</th>\n",
       "      <td>0.0</td>\n",
       "    </tr>\n",
       "    <tr>\n",
       "      <th>3</th>\n",
       "      <td>0.0</td>\n",
       "    </tr>\n",
       "    <tr>\n",
       "      <th>4</th>\n",
       "      <td>1.0</td>\n",
       "    </tr>\n",
       "    <tr>\n",
       "      <th>...</th>\n",
       "      <td>...</td>\n",
       "    </tr>\n",
       "    <tr>\n",
       "      <th>456</th>\n",
       "      <td>1.0</td>\n",
       "    </tr>\n",
       "    <tr>\n",
       "      <th>457</th>\n",
       "      <td>0.0</td>\n",
       "    </tr>\n",
       "    <tr>\n",
       "      <th>458</th>\n",
       "      <td>1.0</td>\n",
       "    </tr>\n",
       "    <tr>\n",
       "      <th>459</th>\n",
       "      <td>0.0</td>\n",
       "    </tr>\n",
       "    <tr>\n",
       "      <th>460</th>\n",
       "      <td>0.0</td>\n",
       "    </tr>\n",
       "  </tbody>\n",
       "</table>\n",
       "<p>461 rows × 1 columns</p>\n",
       "</div>"
      ],
      "text/plain": [
       "     target_val\n",
       "0           1.0\n",
       "1           0.0\n",
       "2           0.0\n",
       "3           0.0\n",
       "4           1.0\n",
       "..          ...\n",
       "456         1.0\n",
       "457         0.0\n",
       "458         1.0\n",
       "459         0.0\n",
       "460         0.0\n",
       "\n",
       "[461 rows x 1 columns]"
      ]
     },
     "execution_count": 39,
     "metadata": {},
     "output_type": "execute_result"
    }
   ],
   "source": [
    "df_y = df_y[['target_val']]\n",
    "df_y"
   ]
  },
  {
   "cell_type": "markdown",
   "id": "3a528706",
   "metadata": {},
   "source": [
    "### Machine learning"
   ]
  },
  {
   "cell_type": "code",
   "execution_count": 42,
   "id": "d38102d4",
   "metadata": {},
   "outputs": [
    {
     "name": "stdout",
     "output_type": "stream",
     "text": [
      "(461, 783) (461, 1)\n"
     ]
    }
   ],
   "source": [
    "X = df_extract.values\n",
    "y = df_y.values\n",
    "print(X.shape, y.shape)"
   ]
  },
  {
   "cell_type": "code",
   "execution_count": 43,
   "id": "000cc147",
   "metadata": {},
   "outputs": [],
   "source": [
    "from sklearn.model_selection import train_test_split"
   ]
  },
  {
   "cell_type": "code",
   "execution_count": 44,
   "id": "c6341c76",
   "metadata": {},
   "outputs": [
    {
     "name": "stdout",
     "output_type": "stream",
     "text": [
      "(368, 783) (93, 783) (368, 1) (93, 1)\n"
     ]
    }
   ],
   "source": [
    "test_size = 0.20\n",
    "\n",
    "X_train, X_test, y_train, y_test = train_test_split(X, y,\n",
    "                                                    test_size=test_size, \n",
    "                                                    stratify=y) # random_state=1\n",
    "\n",
    "print(X_train.shape, X_test.shape, y_train.shape, y_test.shape)"
   ]
  },
  {
   "cell_type": "code",
   "execution_count": null,
   "id": "6b421d97",
   "metadata": {},
   "outputs": [],
   "source": [
    "import numpy as np"
   ]
  },
  {
   "cell_type": "code",
   "execution_count": 45,
   "id": "ef32a5fe",
   "metadata": {},
   "outputs": [
    {
     "name": "stdout",
     "output_type": "stream",
     "text": [
      "294\n",
      "74\n"
     ]
    }
   ],
   "source": [
    "print(np.count_nonzero(y_train==0))\n",
    "print(np.count_nonzero(y_train==1))"
   ]
  },
  {
   "cell_type": "code",
   "execution_count": 47,
   "id": "3587f927",
   "metadata": {},
   "outputs": [],
   "source": [
    "import xgboost as xgb"
   ]
  },
  {
   "cell_type": "code",
   "execution_count": 48,
   "id": "68b57a2a",
   "metadata": {},
   "outputs": [],
   "source": [
    "clf = xgb.XGBClassifier()"
   ]
  },
  {
   "cell_type": "code",
   "execution_count": 49,
   "id": "68f7d0ce",
   "metadata": {},
   "outputs": [
    {
     "data": {
      "text/html": [
       "<style>#sk-container-id-1 {color: black;background-color: white;}#sk-container-id-1 pre{padding: 0;}#sk-container-id-1 div.sk-toggleable {background-color: white;}#sk-container-id-1 label.sk-toggleable__label {cursor: pointer;display: block;width: 100%;margin-bottom: 0;padding: 0.3em;box-sizing: border-box;text-align: center;}#sk-container-id-1 label.sk-toggleable__label-arrow:before {content: \"▸\";float: left;margin-right: 0.25em;color: #696969;}#sk-container-id-1 label.sk-toggleable__label-arrow:hover:before {color: black;}#sk-container-id-1 div.sk-estimator:hover label.sk-toggleable__label-arrow:before {color: black;}#sk-container-id-1 div.sk-toggleable__content {max-height: 0;max-width: 0;overflow: hidden;text-align: left;background-color: #f0f8ff;}#sk-container-id-1 div.sk-toggleable__content pre {margin: 0.2em;color: black;border-radius: 0.25em;background-color: #f0f8ff;}#sk-container-id-1 input.sk-toggleable__control:checked~div.sk-toggleable__content {max-height: 200px;max-width: 100%;overflow: auto;}#sk-container-id-1 input.sk-toggleable__control:checked~label.sk-toggleable__label-arrow:before {content: \"▾\";}#sk-container-id-1 div.sk-estimator input.sk-toggleable__control:checked~label.sk-toggleable__label {background-color: #d4ebff;}#sk-container-id-1 div.sk-label input.sk-toggleable__control:checked~label.sk-toggleable__label {background-color: #d4ebff;}#sk-container-id-1 input.sk-hidden--visually {border: 0;clip: rect(1px 1px 1px 1px);clip: rect(1px, 1px, 1px, 1px);height: 1px;margin: -1px;overflow: hidden;padding: 0;position: absolute;width: 1px;}#sk-container-id-1 div.sk-estimator {font-family: monospace;background-color: #f0f8ff;border: 1px dotted black;border-radius: 0.25em;box-sizing: border-box;margin-bottom: 0.5em;}#sk-container-id-1 div.sk-estimator:hover {background-color: #d4ebff;}#sk-container-id-1 div.sk-parallel-item::after {content: \"\";width: 100%;border-bottom: 1px solid gray;flex-grow: 1;}#sk-container-id-1 div.sk-label:hover label.sk-toggleable__label {background-color: #d4ebff;}#sk-container-id-1 div.sk-serial::before {content: \"\";position: absolute;border-left: 1px solid gray;box-sizing: border-box;top: 0;bottom: 0;left: 50%;z-index: 0;}#sk-container-id-1 div.sk-serial {display: flex;flex-direction: column;align-items: center;background-color: white;padding-right: 0.2em;padding-left: 0.2em;position: relative;}#sk-container-id-1 div.sk-item {position: relative;z-index: 1;}#sk-container-id-1 div.sk-parallel {display: flex;align-items: stretch;justify-content: center;background-color: white;position: relative;}#sk-container-id-1 div.sk-item::before, #sk-container-id-1 div.sk-parallel-item::before {content: \"\";position: absolute;border-left: 1px solid gray;box-sizing: border-box;top: 0;bottom: 0;left: 50%;z-index: -1;}#sk-container-id-1 div.sk-parallel-item {display: flex;flex-direction: column;z-index: 1;position: relative;background-color: white;}#sk-container-id-1 div.sk-parallel-item:first-child::after {align-self: flex-end;width: 50%;}#sk-container-id-1 div.sk-parallel-item:last-child::after {align-self: flex-start;width: 50%;}#sk-container-id-1 div.sk-parallel-item:only-child::after {width: 0;}#sk-container-id-1 div.sk-dashed-wrapped {border: 1px dashed gray;margin: 0 0.4em 0.5em 0.4em;box-sizing: border-box;padding-bottom: 0.4em;background-color: white;}#sk-container-id-1 div.sk-label label {font-family: monospace;font-weight: bold;display: inline-block;line-height: 1.2em;}#sk-container-id-1 div.sk-label-container {text-align: center;}#sk-container-id-1 div.sk-container {/* jupyter's `normalize.less` sets `[hidden] { display: none; }` but bootstrap.min.css set `[hidden] { display: none !important; }` so we also need the `!important` here to be able to override the default hidden behavior on the sphinx rendered scikit-learn.org. See: https://github.com/scikit-learn/scikit-learn/issues/21755 */display: inline-block !important;position: relative;}#sk-container-id-1 div.sk-text-repr-fallback {display: none;}</style><div id=\"sk-container-id-1\" class=\"sk-top-container\"><div class=\"sk-text-repr-fallback\"><pre>XGBClassifier(base_score=None, booster=None, callbacks=None,\n",
       "              colsample_bylevel=None, colsample_bynode=None,\n",
       "              colsample_bytree=None, early_stopping_rounds=None,\n",
       "              enable_categorical=False, eval_metric=None, feature_types=None,\n",
       "              gamma=None, gpu_id=None, grow_policy=None, importance_type=None,\n",
       "              interaction_constraints=None, learning_rate=None, max_bin=None,\n",
       "              max_cat_threshold=None, max_cat_to_onehot=None,\n",
       "              max_delta_step=None, max_depth=None, max_leaves=None,\n",
       "              min_child_weight=None, missing=nan, monotone_constraints=None,\n",
       "              n_estimators=100, n_jobs=None, num_parallel_tree=None,\n",
       "              predictor=None, random_state=None, ...)</pre><b>In a Jupyter environment, please rerun this cell to show the HTML representation or trust the notebook. <br />On GitHub, the HTML representation is unable to render, please try loading this page with nbviewer.org.</b></div><div class=\"sk-container\" hidden><div class=\"sk-item\"><div class=\"sk-estimator sk-toggleable\"><input class=\"sk-toggleable__control sk-hidden--visually\" id=\"sk-estimator-id-1\" type=\"checkbox\" checked><label for=\"sk-estimator-id-1\" class=\"sk-toggleable__label sk-toggleable__label-arrow\">XGBClassifier</label><div class=\"sk-toggleable__content\"><pre>XGBClassifier(base_score=None, booster=None, callbacks=None,\n",
       "              colsample_bylevel=None, colsample_bynode=None,\n",
       "              colsample_bytree=None, early_stopping_rounds=None,\n",
       "              enable_categorical=False, eval_metric=None, feature_types=None,\n",
       "              gamma=None, gpu_id=None, grow_policy=None, importance_type=None,\n",
       "              interaction_constraints=None, learning_rate=None, max_bin=None,\n",
       "              max_cat_threshold=None, max_cat_to_onehot=None,\n",
       "              max_delta_step=None, max_depth=None, max_leaves=None,\n",
       "              min_child_weight=None, missing=nan, monotone_constraints=None,\n",
       "              n_estimators=100, n_jobs=None, num_parallel_tree=None,\n",
       "              predictor=None, random_state=None, ...)</pre></div></div></div></div></div>"
      ],
      "text/plain": [
       "XGBClassifier(base_score=None, booster=None, callbacks=None,\n",
       "              colsample_bylevel=None, colsample_bynode=None,\n",
       "              colsample_bytree=None, early_stopping_rounds=None,\n",
       "              enable_categorical=False, eval_metric=None, feature_types=None,\n",
       "              gamma=None, gpu_id=None, grow_policy=None, importance_type=None,\n",
       "              interaction_constraints=None, learning_rate=None, max_bin=None,\n",
       "              max_cat_threshold=None, max_cat_to_onehot=None,\n",
       "              max_delta_step=None, max_depth=None, max_leaves=None,\n",
       "              min_child_weight=None, missing=nan, monotone_constraints=None,\n",
       "              n_estimators=100, n_jobs=None, num_parallel_tree=None,\n",
       "              predictor=None, random_state=None, ...)"
      ]
     },
     "execution_count": 49,
     "metadata": {},
     "output_type": "execute_result"
    }
   ],
   "source": [
    "clf.fit(X_train, y_train)"
   ]
  },
  {
   "cell_type": "code",
   "execution_count": 50,
   "id": "8086e004",
   "metadata": {},
   "outputs": [],
   "source": [
    "y_pred = clf.predict(X_test)"
   ]
  },
  {
   "cell_type": "code",
   "execution_count": 52,
   "id": "01acad8a",
   "metadata": {},
   "outputs": [],
   "source": [
    "# _pred"
   ]
  },
  {
   "cell_type": "code",
   "execution_count": 54,
   "id": "ed50aaf1",
   "metadata": {},
   "outputs": [],
   "source": [
    "# ML model evaluation\n",
    "from sklearn.metrics import accuracy_score, precision_score\n",
    "from sklearn.metrics import recall_score, f1_score, roc_auc_score\n",
    "from sklearn.metrics import confusion_matrix"
   ]
  },
  {
   "cell_type": "code",
   "execution_count": 55,
   "id": "811d9bde",
   "metadata": {},
   "outputs": [
    {
     "name": "stdout",
     "output_type": "stream",
     "text": [
      "accuracy: 0.7849462365591398\n",
      "precision: 0.0\n",
      "recall: 0.0\n",
      "f1: 0.0\n",
      "roc_auc: 0.49324324324324326\n"
     ]
    },
    {
     "data": {
      "text/plain": [
       "array([[73,  1],\n",
       "       [19,  0]], dtype=int64)"
      ]
     },
     "execution_count": 55,
     "metadata": {},
     "output_type": "execute_result"
    }
   ],
   "source": [
    "print('accuracy: ' + str(accuracy_score(y_test, y_pred)))\n",
    "print('precision: ' + str(precision_score(y_test, y_pred)))\n",
    "print('recall: ' + str(recall_score(y_test, y_pred)))\n",
    "print('f1: ' + str(f1_score(y_test, y_pred)))\n",
    "print('roc_auc: ' + str(roc_auc_score(y_test, y_pred)))\n",
    "confusion_matrix(y_test, y_pred)"
   ]
  },
  {
   "cell_type": "code",
   "execution_count": 56,
   "id": "7e0bb4d4",
   "metadata": {},
   "outputs": [
    {
     "data": {
      "text/plain": [
       "array([0, 0, 0, 0, 0, 0, 0, 0, 0, 0, 0, 0, 0, 0, 0, 0, 0, 0, 0, 0, 0, 0,\n",
       "       0, 0, 0, 0, 0, 0, 0, 0, 0, 0, 0, 0, 0, 0, 0, 0, 0, 0, 0, 0, 0, 0,\n",
       "       0, 0, 0, 0, 0, 0, 0, 0, 0, 0, 0, 0, 0, 0, 0, 0, 0, 0, 0, 0, 0, 0,\n",
       "       0, 0, 1, 0, 0, 0, 0, 0, 0, 0, 0, 0, 0, 0, 0, 0, 0, 0, 0, 0, 0, 0,\n",
       "       0, 0, 0, 0, 0])"
      ]
     },
     "execution_count": 56,
     "metadata": {},
     "output_type": "execute_result"
    }
   ],
   "source": [
    "y_pred"
   ]
  },
  {
   "cell_type": "markdown",
   "id": "65726234",
   "metadata": {},
   "source": [
    "ok, from baseline result, see that we definitely have some work to do !!!\n",
    "\n",
    "(seeing mode collapse to the dominate class!)"
   ]
  },
  {
   "cell_type": "markdown",
   "id": "ac7fbeba",
   "metadata": {},
   "source": [
    "Next step:   \n",
    "\n",
    "Synthetic data generation, and feature selection . . . \n",
    "\n",
    "https://github.com/avsolatorio/REaLTabFormer\n",
    "\n",
    "https://towardsdatascience.com/synthetic-tabular-data-generation-34eb94a992ed\n",
    "\n",
    "misc finds: \n",
    "\n",
    "https://towardsdatascience.com/the-limitations-of-shap-703f34061d86\n",
    "\n",
    "https://towardsdatascience.com/how-to-find-the-best-theoretical-distribution-for-your-data-a26e5673b4bd\n",
    "\n",
    "https://pypi.org/project/DataSynthesizer/\n",
    "\n",
    "https://pypi.org/project/distfit/\n",
    "https://erdogant.github.io/distfit/pages/html/Installation.html"
   ]
  },
  {
   "cell_type": "code",
   "execution_count": 57,
   "id": "2d78b7be",
   "metadata": {},
   "outputs": [],
   "source": [
    "from realtabformer import REaLTabFormer"
   ]
  },
  {
   "cell_type": "code",
   "execution_count": null,
   "id": "c487d9c7",
   "metadata": {},
   "outputs": [],
   "source": []
  }
 ],
 "metadata": {
  "kernelspec": {
   "display_name": "Python 3 (ipykernel)",
   "language": "python",
   "name": "python3"
  },
  "language_info": {
   "codemirror_mode": {
    "name": "ipython",
    "version": 3
   },
   "file_extension": ".py",
   "mimetype": "text/x-python",
   "name": "python",
   "nbconvert_exporter": "python",
   "pygments_lexer": "ipython3",
   "version": "3.10.9"
  }
 },
 "nbformat": 4,
 "nbformat_minor": 5
}

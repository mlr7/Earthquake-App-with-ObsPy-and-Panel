{
 "cells": [
  {
   "cell_type": "code",
   "execution_count": null,
   "id": "59a38d29",
   "metadata": {},
   "outputs": [],
   "source": []
  },
  {
   "cell_type": "code",
   "execution_count": 5,
   "id": "c6d83414",
   "metadata": {},
   "outputs": [],
   "source": [
    "%matplotlib inline\n",
    "\n",
    "import numpy as np\n",
    "import pandas as pd\n",
    "\n",
    "import matplotlib.pyplot as plt"
   ]
  },
  {
   "cell_type": "code",
   "execution_count": 7,
   "id": "49befc22",
   "metadata": {},
   "outputs": [
    {
     "name": "stdout",
     "output_type": "stream",
     "text": [
      "(67624, 6)\n"
     ]
    },
    {
     "data": {
      "text/html": [
       "<div>\n",
       "<style scoped>\n",
       "    .dataframe tbody tr th:only-of-type {\n",
       "        vertical-align: middle;\n",
       "    }\n",
       "\n",
       "    .dataframe tbody tr th {\n",
       "        vertical-align: top;\n",
       "    }\n",
       "\n",
       "    .dataframe thead th {\n",
       "        text-align: right;\n",
       "    }\n",
       "</style>\n",
       "<table border=\"1\" class=\"dataframe\">\n",
       "  <thead>\n",
       "    <tr style=\"text-align: right;\">\n",
       "      <th></th>\n",
       "      <th>datetime</th>\n",
       "      <th>lat</th>\n",
       "      <th>lon</th>\n",
       "      <th>depth</th>\n",
       "      <th>mag</th>\n",
       "      <th>type</th>\n",
       "    </tr>\n",
       "  </thead>\n",
       "  <tbody>\n",
       "    <tr>\n",
       "      <th>0</th>\n",
       "      <td>2018-01-01 19:48:33.070</td>\n",
       "      <td>36.085500</td>\n",
       "      <td>-117.020100</td>\n",
       "      <td>5200.0</td>\n",
       "      <td>0.40</td>\n",
       "      <td>ml</td>\n",
       "    </tr>\n",
       "    <tr>\n",
       "      <th>1</th>\n",
       "      <td>2018-01-02 02:16:28.190</td>\n",
       "      <td>35.883500</td>\n",
       "      <td>-117.984667</td>\n",
       "      <td>10890.0</td>\n",
       "      <td>0.68</td>\n",
       "      <td>Ml</td>\n",
       "    </tr>\n",
       "    <tr>\n",
       "      <th>2</th>\n",
       "      <td>2018-01-02 02:31:57.870</td>\n",
       "      <td>35.886167</td>\n",
       "      <td>-117.987167</td>\n",
       "      <td>8920.0</td>\n",
       "      <td>1.57</td>\n",
       "      <td>Ml</td>\n",
       "    </tr>\n",
       "    <tr>\n",
       "      <th>3</th>\n",
       "      <td>2018-01-02 11:24:05.650</td>\n",
       "      <td>35.773500</td>\n",
       "      <td>-117.668833</td>\n",
       "      <td>8840.0</td>\n",
       "      <td>0.59</td>\n",
       "      <td>Ml</td>\n",
       "    </tr>\n",
       "  </tbody>\n",
       "</table>\n",
       "</div>"
      ],
      "text/plain": [
       "                  datetime        lat         lon    depth   mag type\n",
       "0  2018-01-01 19:48:33.070  36.085500 -117.020100   5200.0  0.40   ml\n",
       "1  2018-01-02 02:16:28.190  35.883500 -117.984667  10890.0  0.68   Ml\n",
       "2  2018-01-02 02:31:57.870  35.886167 -117.987167   8920.0  1.57   Ml\n",
       "3  2018-01-02 11:24:05.650  35.773500 -117.668833   8840.0  0.59   Ml"
      ]
     },
     "metadata": {},
     "output_type": "display_data"
    },
    {
     "data": {
      "text/html": [
       "<div>\n",
       "<style scoped>\n",
       "    .dataframe tbody tr th:only-of-type {\n",
       "        vertical-align: middle;\n",
       "    }\n",
       "\n",
       "    .dataframe tbody tr th {\n",
       "        vertical-align: top;\n",
       "    }\n",
       "\n",
       "    .dataframe thead th {\n",
       "        text-align: right;\n",
       "    }\n",
       "</style>\n",
       "<table border=\"1\" class=\"dataframe\">\n",
       "  <thead>\n",
       "    <tr style=\"text-align: right;\">\n",
       "      <th></th>\n",
       "      <th>datetime</th>\n",
       "      <th>lat</th>\n",
       "      <th>lon</th>\n",
       "      <th>depth</th>\n",
       "      <th>mag</th>\n",
       "      <th>type</th>\n",
       "    </tr>\n",
       "  </thead>\n",
       "  <tbody>\n",
       "    <tr>\n",
       "      <th>67620</th>\n",
       "      <td>2023-03-04 06:34:26.940</td>\n",
       "      <td>35.907833</td>\n",
       "      <td>-117.731833</td>\n",
       "      <td>4570.0</td>\n",
       "      <td>1.09</td>\n",
       "      <td>Ml</td>\n",
       "    </tr>\n",
       "    <tr>\n",
       "      <th>67621</th>\n",
       "      <td>2023-03-04 14:06:38.490</td>\n",
       "      <td>35.680167</td>\n",
       "      <td>-117.508500</td>\n",
       "      <td>4680.0</td>\n",
       "      <td>0.68</td>\n",
       "      <td>Ml</td>\n",
       "    </tr>\n",
       "    <tr>\n",
       "      <th>67622</th>\n",
       "      <td>2023-03-05 01:36:13.190</td>\n",
       "      <td>35.705333</td>\n",
       "      <td>-117.528500</td>\n",
       "      <td>520.0</td>\n",
       "      <td>1.29</td>\n",
       "      <td>Ml</td>\n",
       "    </tr>\n",
       "    <tr>\n",
       "      <th>67623</th>\n",
       "      <td>2023-03-05 20:39:33.580</td>\n",
       "      <td>35.864500</td>\n",
       "      <td>-117.681833</td>\n",
       "      <td>8680.0</td>\n",
       "      <td>1.65</td>\n",
       "      <td>Ml</td>\n",
       "    </tr>\n",
       "  </tbody>\n",
       "</table>\n",
       "</div>"
      ],
      "text/plain": [
       "                      datetime        lat         lon   depth   mag type\n",
       "67620  2023-03-04 06:34:26.940  35.907833 -117.731833  4570.0  1.09   Ml\n",
       "67621  2023-03-04 14:06:38.490  35.680167 -117.508500  4680.0  0.68   Ml\n",
       "67622  2023-03-05 01:36:13.190  35.705333 -117.528500   520.0  1.29   Ml\n",
       "67623  2023-03-05 20:39:33.580  35.864500 -117.681833  8680.0  1.65   Ml"
      ]
     },
     "metadata": {},
     "output_type": "display_data"
    }
   ],
   "source": [
    "df = pd.read_csv('./data_in/data_IrisObspy_Ridgecrest2019_2018TO5mar2023_20230305a.csv')\n",
    "\n",
    "print(df.shape)\n",
    "display(df.head(4))\n",
    "display(df.tail(4))"
   ]
  },
  {
   "cell_type": "code",
   "execution_count": 8,
   "id": "7855eef9",
   "metadata": {},
   "outputs": [],
   "source": [
    "df['datetime'] = pd.to_datetime(df['datetime'])"
   ]
  },
  {
   "cell_type": "code",
   "execution_count": 11,
   "id": "bd8dc652",
   "metadata": {},
   "outputs": [
    {
     "data": {
      "text/plain": [
       "[<matplotlib.lines.Line2D at 0x24a7bd81100>]"
      ]
     },
     "execution_count": 11,
     "metadata": {},
     "output_type": "execute_result"
    },
    {
     "data": {
      "image/png": "[encoded data removed]",
      "text/plain": [
       "<Figure size 1440x360 with 1 Axes>"
      ]
     },
     "metadata": {
      "needs_background": "light"
     },
     "output_type": "display_data"
    }
   ],
   "source": [
    "plt.figure(figsize=(20,5))\n",
    "plt.style.use('seaborn-poster')\n",
    "plt.style.use('seaborn-whitegrid')\n",
    "plt.plot(df['datetime'], df['mag'])"
   ]
  },
  {
   "cell_type": "markdown",
   "id": "58d1fa4d",
   "metadata": {},
   "source": [
    "### Create regular time series\n",
    "\n",
    "(aggregate by min or hour or . . . to create equal time spacing)\n",
    "(can compare this step vs not doing this step . . . )"
   ]
  },
  {
   "cell_type": "code",
   "execution_count": null,
   "id": "d3132ea8",
   "metadata": {},
   "outputs": [],
   "source": []
  }
 ],
 "metadata": {
  "kernelspec": {
   "display_name": "Python 3",
   "language": "python",
   "name": "python3"
  },
  "language_info": {
   "codemirror_mode": {
    "name": "ipython",
    "version": 3
   },
   "file_extension": ".py",
   "mimetype": "text/x-python",
   "name": "python",
   "nbconvert_exporter": "python",
   "pygments_lexer": "ipython3",
   "version": "3.8.8"
  }
 },
 "nbformat": 4,
 "nbformat_minor": 5
}
